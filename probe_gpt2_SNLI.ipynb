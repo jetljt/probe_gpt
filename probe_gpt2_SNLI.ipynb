{
  "cells": [
    {
      "cell_type": "markdown",
      "metadata": {
        "id": "dppR5tuLdacG"
      },
      "source": [
        "## Preparation"
      ]
    },
    {
      "cell_type": "code",
      "execution_count": null,
      "metadata": {
        "colab": {
          "base_uri": "https://localhost:8080/"
        },
        "id": "Z90QHdZ8dV_z",
        "outputId": "e5b5d08f-9d38-4e68-930a-7e749341055d"
      },
      "outputs": [
        {
          "name": "stdout",
          "output_type": "stream",
          "text": [
            "Drive already mounted at /content/drive; to attempt to forcibly remount, call drive.mount(\"/content/drive\", force_remount=True).\n",
            "Extracting ...\n",
            "Completed!\n"
          ]
        }
      ],
      "source": [
        "from google.colab import drive\n",
        "import zipfile\n",
        "import os\n",
        "\n",
        "# Google Drive mount\n",
        "drive.mount('/content/drive')\n",
        "\n",
        "# Update these paths according to where the zip file is located in your Google Drive\n",
        "GOOGLE_DRIVE_PATH = '/content/drive/My Drive/Colab Notebooks/Dataset'  # Path to the folder containing the zip file\n",
        "ZIP_FILE_NAME = 'snli_1.0.zip'  # Name of the zip file\n",
        "DATA_DIR = 'data'  # Directory where you want to extract the dataset\n",
        "\n",
        "def extract_from_drive(drive_path, zip_file_name, data_dir):\n",
        "    zip_file_path = os.path.join(drive_path, zip_file_name)\n",
        "    print(\"Extracting ...\")\n",
        "    with zipfile.ZipFile(zip_file_path) as zip_ref:\n",
        "        zip_ref.extractall(data_dir)\n",
        "    print(\"Completed!\")\n",
        "\n",
        "# Create the DATA_DIR if it doesn't exist\n",
        "if not os.path.exists(DATA_DIR):\n",
        "    os.makedirs(DATA_DIR)\n",
        "\n",
        "# Extract data\n",
        "extract_from_drive(GOOGLE_DRIVE_PATH, ZIP_FILE_NAME, DATA_DIR)\n"
      ]
    },
    {
      "cell_type": "markdown",
      "metadata": {
        "id": "VPgttCo8e6r4"
      },
      "source": [
        "The dataset comes in two formats (tsv and json) and has already been split into train/dev/test."
      ]
    },
    {
      "cell_type": "code",
      "execution_count": null,
      "metadata": {
        "colab": {
          "base_uri": "https://localhost:8080/"
        },
        "id": "tkNgNAaKeswR",
        "outputId": "7a4c1073-bb72-497e-8d9a-cbb71bc28b6d"
      },
      "outputs": [
        {
          "data": {
            "text/plain": [
              "['snli_1.0_train.jsonl',\n",
              " 'snli_1.0_dev.txt',\n",
              " 'snli_1.0_train.txt',\n",
              " 'snli_1.0_test.txt',\n",
              " 'snli_1.0_dev.jsonl',\n",
              " 'snli_1.0_test.jsonl',\n",
              " 'Icon\\r',\n",
              " '.DS_Store',\n",
              " 'README.txt']"
            ]
          },
          "execution_count": 2,
          "metadata": {},
          "output_type": "execute_result"
        }
      ],
      "source": [
        "\n",
        "snli_folder = os.path.join(DATA_DIR, \"snli_1.0\")\n",
        "os.listdir(snli_folder)"
      ]
    },
    {
      "cell_type": "markdown",
      "metadata": {
        "id": "g3xduMdNfS1_"
      },
      "source": [
        "From the training set, read 500 (gold_label, sentence1, sentence2) triplets and store them in an array somewhere. You can randomly sample them from the entire training dataset, ensuring you have a sample with a decent number of neutral, entailment, and contradiction labels."
      ]
    },
    {
      "cell_type": "code",
      "execution_count": null,
      "metadata": {
        "id": "Hqy49xU9e9_X"
      },
      "outputs": [],
      "source": [
        "import pandas as pd\n",
        "train_path =  os.path.join(snli_folder, \"snli_1.0_train.txt\")\n",
        "dev_path = os.path.join(snli_folder, \"snli_1.0_dev.txt\")\n",
        "test_path = os.path.join(snli_folder, \"snli_1.0_test.txt\")\n",
        "\n",
        "# Read the dataset\n",
        "df_train = pd.read_csv(train_path, sep='\\t')\n",
        "\n",
        "# Drop rows where gold_label is NaN or '-', which might occur in the dataset\n",
        "df_train = df_train[df_train['gold_label'].isin(['neutral', 'entailment', 'contradiction'])]\n",
        "\n",
        "# Sample rows from each label group\n",
        "sample_size = 500  # Total sample size\n",
        "labels = df_train['gold_label'].unique()\n",
        "samples_per_label = sample_size // len(labels)\n",
        "\n",
        "samples = []\n",
        "extra_samples_needed = sample_size % len(labels)\n",
        "\n",
        "for label in labels:\n",
        "    n_samples = samples_per_label + (1 if extra_samples_needed > 0 else 0)\n",
        "    extra_samples_needed -= 1\n",
        "    samples.append(df_train[df_train['gold_label'] == label].sample(n=n_samples, random_state=1))\n",
        "\n",
        "# Concatenate samples and shuffle\n",
        "df_sample = pd.concat(samples).sample(frac=1, random_state=1).reset_index(drop=True)\n",
        "\n",
        "# If the total number exceeds 500, randomly drop the extra samples\n",
        "if len(df_sample) > sample_size:\n",
        "    df_sample = df_sample.sample(n=sample_size, random_state=1).reset_index(drop=True)\n"
      ]
    },
    {
      "cell_type": "markdown",
      "metadata": {
        "id": "gUH4vgpFj93j"
      },
      "source": [
        "Load the GPT2 language model and tokenizer using Huggingface’s Transformers, using GPT2LMHeadModel when loading the model itself."
      ]
    },
    {
      "cell_type": "code",
      "execution_count": null,
      "metadata": {
        "colab": {
          "base_uri": "https://localhost:8080/"
        },
        "id": "RXYIfEQFiKQT",
        "outputId": "3b71b39f-7ba6-43c8-b25e-09f747c4e366"
      },
      "outputs": [
        {
          "name": "stdout",
          "output_type": "stream",
          "text": [
            "cuda\n",
            "GPT2LMHeadModel(\n",
            "  (transformer): GPT2Model(\n",
            "    (wte): Embedding(50257, 768)\n",
            "    (wpe): Embedding(1024, 768)\n",
            "    (drop): Dropout(p=0.1, inplace=False)\n",
            "    (h): ModuleList(\n",
            "      (0-11): 12 x GPT2Block(\n",
            "        (ln_1): LayerNorm((768,), eps=1e-05, elementwise_affine=True)\n",
            "        (attn): GPT2Attention(\n",
            "          (c_attn): Conv1D()\n",
            "          (c_proj): Conv1D()\n",
            "          (attn_dropout): Dropout(p=0.1, inplace=False)\n",
            "          (resid_dropout): Dropout(p=0.1, inplace=False)\n",
            "        )\n",
            "        (ln_2): LayerNorm((768,), eps=1e-05, elementwise_affine=True)\n",
            "        (mlp): GPT2MLP(\n",
            "          (c_fc): Conv1D()\n",
            "          (c_proj): Conv1D()\n",
            "          (act): NewGELUActivation()\n",
            "          (dropout): Dropout(p=0.1, inplace=False)\n",
            "        )\n",
            "      )\n",
            "    )\n",
            "    (ln_f): LayerNorm((768,), eps=1e-05, elementwise_affine=True)\n",
            "  )\n",
            "  (lm_head): Linear(in_features=768, out_features=50257, bias=False)\n",
            ")\n"
          ]
        }
      ],
      "source": [
        "from transformers import GPT2Tokenizer, GPT2LMHeadModel\n",
        "import torch\n",
        "import numpy as np\n",
        "\n",
        "import logging\n",
        "logging.getLogger().setLevel(logging.CRITICAL)\n",
        "\n",
        "import warnings\n",
        "warnings.filterwarnings('ignore')\n",
        "\n",
        "device = 'cpu'\n",
        "if torch.cuda.is_available():\n",
        "    device = 'cuda'\n",
        "print(device)\n",
        "model = GPT2LMHeadModel.from_pretrained('gpt2')\n",
        "tokenizer = GPT2Tokenizer.from_pretrained('gpt2')\n",
        "model = model.to(device)\n",
        "print(model)"
      ]
    },
    {
      "cell_type": "markdown",
      "metadata": {
        "id": "q6zIQkxdGJzt"
      },
      "source": []
    },
    {
      "cell_type": "markdown",
      "metadata": {
        "id": "rVY5CIKiGLvZ"
      },
      "source": [
        "## Define which layer to probe: h.0.mlp/h.5.mlp/h.9.mlp and define which prompt to use"
      ]
    },
    {
      "cell_type": "code",
      "execution_count": null,
      "metadata": {
        "id": "8cZQPyCAGU7K"
      },
      "outputs": [],
      "source": [
        "# PROBING_LAYER = \"h0.mlp\"\n",
        "# PROBING_LAYER = \"h5.mlp\"\n",
        "PROBING_LAYER = \"h9.mlp\"\n",
        "# PROMPT = \"This conveys a similar message as this:\"\n",
        "PROMPT = \"This has the same meaning as:\""
      ]
    },
    {
      "cell_type": "markdown",
      "metadata": {
        "id": "NAXeGNYmp544"
      },
      "source": [
        "## Obtain Internal States\n"
      ]
    },
    {
      "cell_type": "markdown",
      "metadata": {
        "id": "0lsjuqvsp9mY"
      },
      "source": [
        "Before probing the model, I need to first transform your dataset into prompts. For every (gold_label, sentence1, sentence2) triplet in the dataset, I combine sentence1 and sentence2 such that the two sentences in each data item are connected in a single string, like so:\n",
        "\n",
        "combined_sentences = “\\<sentence1\\> This has the same meaning as: \\<sentence2\\>”\n",
        "Such that now I have a dataset of 500 (gold_label, sentence1, sentence2, combined_sentences) tuples."
      ]
    },
    {
      "cell_type": "code",
      "execution_count": null,
      "metadata": {
        "colab": {
          "base_uri": "https://localhost:8080/"
        },
        "id": "jxE8WtBAqR2d",
        "outputId": "1c04427d-a483-4ea2-c7bd-2cac6bb153e9"
      },
      "outputs": [
        {
          "name": "stdout",
          "output_type": "stream",
          "text": [
            "500\n",
            "[['contradiction'\n",
            "  'People crossing a river on a narrow wooden bridge from one side to the other at sunset.'\n",
            "  'People are sitting on a bridge.'\n",
            "  'People crossing a river on a narrow wooden bridge from one side to the other at sunset. This has the same meaning as: People are sitting on a bridge.']\n",
            " ['entailment' 'two men in a ring getting ready to fight.'\n",
            "  'Two racelers were ready for fight.'\n",
            "  'two men in a ring getting ready to fight. This has the same meaning as: Two racelers were ready for fight.']\n",
            " ['neutral' 'A woman walking with a beverage in her right hand.'\n",
            "  'A woman enjoys a beer.'\n",
            "  'A woman walking with a beverage in her right hand. This has the same meaning as: A woman enjoys a beer.']\n",
            " ['neutral'\n",
            "  'A martial artist pins her opponent by sitting on her shoulders.'\n",
            "  'A martial artist fighting to win'\n",
            "  'A martial artist pins her opponent by sitting on her shoulders. This has the same meaning as: A martial artist fighting to win']\n",
            " ['entailment'\n",
            "  'A man in dark clothes uses a tourist telescope to observe the ocean.'\n",
            "  'A man is looking through a telescope.'\n",
            "  'A man in dark clothes uses a tourist telescope to observe the ocean. This has the same meaning as: A man is looking through a telescope.']]\n"
          ]
        }
      ],
      "source": [
        "# Create the combined_sentences column in the df_sample DataFrame\n",
        "df_sample['combined_sentences'] = df_sample.apply(\n",
        "    lambda row: f\"{row['sentence1']} {PROMPT} {row['sentence2']}\",\n",
        "    axis=1\n",
        ")\n",
        "# Extract the required columns\n",
        "sampled_data = df_sample[['gold_label', 'sentence1', 'sentence2', 'combined_sentences']]\n",
        "\n",
        "# Convert to array or list for further use\n",
        "quadruple_array = sampled_data.values\n",
        "\n",
        "print(len(quadruple_array))\n",
        "print(quadruple_array[:5, :])"
      ]
    },
    {
      "cell_type": "code",
      "execution_count": null,
      "metadata": {
        "colab": {
          "base_uri": "https://localhost:8080/"
        },
        "id": "3xHMZJRjS9iD",
        "outputId": "dbd0345f-82fb-42ed-96b4-9425bce448c2"
      },
      "outputs": [
        {
          "name": "stdout",
          "output_type": "stream",
          "text": [
            "Collecting git+https://github.com/davidbau/baukit\n",
            "  Cloning https://github.com/davidbau/baukit to /tmp/pip-req-build-ly3bp8bp\n",
            "  Running command git clone --filter=blob:none --quiet https://github.com/davidbau/baukit /tmp/pip-req-build-ly3bp8bp\n",
            "  Resolved https://github.com/davidbau/baukit to commit 5e23007c02fd58f063200c5dc9033e90f092630d\n",
            "  Installing build dependencies ... \u001b[?25l\u001b[?25hdone\n",
            "  Getting requirements to build wheel ... \u001b[?25l\u001b[?25hdone\n",
            "  Installing backend dependencies ... \u001b[?25l\u001b[?25hdone\n",
            "  Preparing metadata (pyproject.toml) ... \u001b[?25l\u001b[?25hdone\n",
            "Requirement already satisfied: numpy in /usr/local/lib/python3.10/dist-packages (from baukit==0.0.1) (1.23.5)\n",
            "Requirement already satisfied: torch in /usr/local/lib/python3.10/dist-packages (from baukit==0.0.1) (2.1.0+cu118)\n",
            "Requirement already satisfied: torchvision in /usr/local/lib/python3.10/dist-packages (from baukit==0.0.1) (0.16.0+cu118)\n",
            "Requirement already satisfied: filelock in /usr/local/lib/python3.10/dist-packages (from torch->baukit==0.0.1) (3.13.1)\n",
            "Requirement already satisfied: typing-extensions in /usr/local/lib/python3.10/dist-packages (from torch->baukit==0.0.1) (4.5.0)\n",
            "Requirement already satisfied: sympy in /usr/local/lib/python3.10/dist-packages (from torch->baukit==0.0.1) (1.12)\n",
            "Requirement already satisfied: networkx in /usr/local/lib/python3.10/dist-packages (from torch->baukit==0.0.1) (3.2.1)\n",
            "Requirement already satisfied: jinja2 in /usr/local/lib/python3.10/dist-packages (from torch->baukit==0.0.1) (3.1.2)\n",
            "Requirement already satisfied: fsspec in /usr/local/lib/python3.10/dist-packages (from torch->baukit==0.0.1) (2023.6.0)\n",
            "Requirement already satisfied: triton==2.1.0 in /usr/local/lib/python3.10/dist-packages (from torch->baukit==0.0.1) (2.1.0)\n",
            "Requirement already satisfied: requests in /usr/local/lib/python3.10/dist-packages (from torchvision->baukit==0.0.1) (2.31.0)\n",
            "Requirement already satisfied: pillow!=8.3.*,>=5.3.0 in /usr/local/lib/python3.10/dist-packages (from torchvision->baukit==0.0.1) (9.4.0)\n",
            "Requirement already satisfied: MarkupSafe>=2.0 in /usr/local/lib/python3.10/dist-packages (from jinja2->torch->baukit==0.0.1) (2.1.3)\n",
            "Requirement already satisfied: charset-normalizer<4,>=2 in /usr/local/lib/python3.10/dist-packages (from requests->torchvision->baukit==0.0.1) (3.3.2)\n",
            "Requirement already satisfied: idna<4,>=2.5 in /usr/local/lib/python3.10/dist-packages (from requests->torchvision->baukit==0.0.1) (3.4)\n",
            "Requirement already satisfied: urllib3<3,>=1.21.1 in /usr/local/lib/python3.10/dist-packages (from requests->torchvision->baukit==0.0.1) (2.0.7)\n",
            "Requirement already satisfied: certifi>=2017.4.17 in /usr/local/lib/python3.10/dist-packages (from requests->torchvision->baukit==0.0.1) (2023.7.22)\n",
            "Requirement already satisfied: mpmath>=0.19 in /usr/local/lib/python3.10/dist-packages (from sympy->torch->baukit==0.0.1) (1.3.0)\n"
          ]
        }
      ],
      "source": [
        "%pip install git+https://github.com/davidbau/baukit"
      ]
    },
    {
      "cell_type": "markdown",
      "metadata": {
        "id": "ocNfaCaai3_m"
      },
      "source": [
        "Get number of tokens in the second sentence for each entry in the dataset"
      ]
    },
    {
      "cell_type": "code",
      "execution_count": null,
      "metadata": {
        "id": "L_iJNF2NYOsD"
      },
      "outputs": [],
      "source": [
        "def extract_second_sentence_len(array):\n",
        "    # This function extracts the second sentence from each element in the array\n",
        "    return [len(sentence.split(f\"{PROMPT} \")[1]) for sentence in array]"
      ]
    },
    {
      "cell_type": "code",
      "execution_count": null,
      "metadata": {
        "colab": {
          "base_uri": "https://localhost:8080/"
        },
        "id": "P9_6LFFPZrCp",
        "outputId": "af135fe4-5985-4748-c19c-4714600f3683"
      },
      "outputs": [
        {
          "name": "stdout",
          "output_type": "stream",
          "text": [
            "['People are sitting on a bridge.', 'Two racelers were ready for fight.', 'A woman enjoys a beer.', 'A martial artist fighting to win', 'A man is looking through a telescope.', 'An African American woman helping another woman.', 'Two men are fighting.', 'Tables are being prepared for movie stars at a fancy restaurant.', 'the bags are not arriving', 'Two kids are swinging at the park with their friends.', 'There are people sitting.', 'A woman plays solitaire.', 'A man in a white shirt is standing in front of a tire shop.', 'A bicyclist doing his best not to fall.', 'A man stand near bottles and a cat.', 'A man is running away with a sign.', 'The woman is playing tennis.', 'A man is sitting on a bench.', 'The people are inside the church', 'A man poses in front of the statue he made.', 'The two men are having a BBQ party.', 'A boy kisses his mother hello before he starts school.', 'A garbage truck is picking up the dumpster.', 'two men playing sports', 'Two dogs are running to chase a cat in a fenced yard.', 'why are grown ups playing this sport?', 'The three woman are sisters, and are on their daily walk to the local library.', 'A woman is crying.', 'Two women swim laps around a pool.', 'The person is not holding anything.', 'The man is nude', 'A woman is making food behind the booth,', 'the dog was in the car', 'There are women outdoors.', 'A young woman is wearing gray.', 'A woman from the green volleyball team hit the ball as the white team is trying to block it during the championship game.', 'The three people are at a KKK rally.', 'The man went off a bike ramp.', 'A female navy member', 'The boy is playing in a pool', 'A tennis player is taking a break on the sidelines', 'The man stands outdoors near a building', 'Leaves are being held by a woman.', 'A girl got thrown out at first base.', 'Two men shop for vegetables in a grocery store.', 'Skater resting her head before performing.', 'A giraffe is eating an apple.', 'A man is holding someone', 'A boy and father play.', 'People attempt to sell goods outdoors.', 'A person with a hat hammers a nail in a house wall.', 'A musical trio- two females and a male- eat carrots in the street.', 'The girl has been practicing for hours.', 'Firemen work as civillians watch.', 'The dog is sitting on the carpeted floor.', 'The baby is alone.', 'Soccer Ball is kicked by sportsman', 'Nobody is golfing', 'The man and woman are dating each other.', 'A police officer stands in the street with emergency vehicles nearby.', 'An animal is wearing a muzzle.', 'The little boy and little girl are siblings.', 'A cat is jumping.', 'Two people work in a factory.', 'A man is injured.', 'Two fighters are taking a nap.', 'A human wearing something.', 'A man is getting tattooed.', 'A man in swimming trunks is laying by the pool.', 'A group is meeting in the alley to discuss business.', 'Several people are standing on seats near a large table with foods.', 'The walls in the room were white.', 'Some women talking on the street.', 'The jet ski is going at maximum speed', 'The man hanging from the structure has bent arms.', 'A girl holding crayons.', 'Two men are with a dog.', 'A group of motocrycles making their way down and road outside.', 'A woman is on a treadmil.', 'The young woman rests because she is tired from walking in heels all day.', 'Workers are taking a break.', 'a group in the people repiblic dispaying their colors', 'The men are riding horses.', 'Woman and girls perform a cultural dance.', 'The teenagers are sitting in the coffee lounge.', 'The man is para sailing in the gym.', 'a women putting on nail polish', 'The three people are asleep in the tent.', 'People are outside.', 'Women in hats drink beverages.', 'Some people are playing sports.', 'A dog is in the grass.', 'Someone breathes fire.', 'Three men play a board game on the picnic table.', 'A person in this group has a weapon.', 'Some people are eating food.', 'Two cats are drihnking milk.', 'THe man is a lawyer.', 'Some people sit on lawnchairs.', 'A jumps in the air to catch the frisbee.', 'the people wore black to the funeral', 'The man is receiving a call at his work station.', 'A boy is climbing up a curved surface.', 'A few people decide to open the shutter of a resturant.', 'The dog is outside.', 'A young person is looking for her friend.', 'A class is being taught by a professor.', 'Middle Eastern men are preparing pasta for dinner while staring at a camera.', 'The man is asleep.', 'The pork pie hat is old', 'A waiter is placing an order in the kitchen.', 'A dog is wet.', 'People are getting food ready to serve at a table made of wood, using disposable plates.', 'Three people look at the camera', 'A bike with a family on it.', 'A man is standing in front of a tripod inside a building taking pictures.', 'Two people are in the water.', 'Hikers rest along the water.', 'Two men are having an important conversation while one takes notes.', 'There is a large piece of equipment in the road.', 'children holding their hands up', 'A puppy trying to catch frisbee in water.', 'A tall human running', 'Two kids jump on a trampoline.', 'A woman is playing catch with her son.', 'The man is eating a sandwich.', 'The child is being active.', 'A man jumping with a woman.', 'The person who is surfing is trying to get to the boat.', 'the man is doing tricks', 'Children are driving go-carts.', 'man begging for coins', 'A group is having a meeting.', 'People wearing helmets ride their bikes across the road', 'man doing mountain climbing', 'The baseball player sits on the bench drinking water.', 'A lady is doing an activity involving a ball.', 'A man rides a horse.', 'A lady dances with another person.', 'A tank fording a river.', 'The boy is having a great time.', 'A man is going to market to sell some fruit.', 'A dog is building a skyscraper out of snow.', 'A man hunting deer near a big tree.', 'A couple doing youga positions on the moon.', 'A crowd is being totally calm.', 'A dog is holding up a trashcan.', 'The boy thinks the girl is pretty.', 'A man is jogging and drinking water as he passes a big unfinished building in the new part of town.', 'The bicyclist is racing.', 'The person is a professional diver.', 'A boy is on the beach with his sister.', 'The four children go surfing', 'The men are cooks in a restaurant.', 'Several people are outdoors.', 'The man is walking out to the mailbox.', 'Two men are walking past a bus stop to get to their cars in the parking garage.', 'a lady is selling mangos', 'the man is an agent', 'The young woman rides a motorcycle through the forest.', 'Two boys and a man are playing poker', 'A small group of people are outside looking at a wall', 'These individuals have on warm clothing.', 'A bear is protecting her cub.', 'soldiers are walking', 'People are sitting quietly at the library.', 'There is a group of kids sitting around a campfire.', 'A boy is catching a frisbee outside his house.', \"There's a lot of people in the streets.\", 'The weather is too severe for the wakeboarder to go into the ocean.', 'The day is hot.', 'He just went shopping.', 'The man is near a ladder.', 'A couple sits on a wall and discusses where to have dinner.', 'Two girls are playing.', 'A man wearing a red shirt is talking to two men wearing orange and yellow work vest.', 'A crying baby being held by her grandmother, as she sings a lullaby.', 'The bridge is red.', 'A woman is watching television.', 'The couple are engaged.', 'A man is cutting a cake.', 'A neighborhood is desecrated by graffiti.', 'An elderly woman searches her bag.', 'A man is selling inflatable baseball bats and mitts to the crowd.', 'There is more than one person near the vendor.', 'The teens are zombies.', 'the people are sitting at night time.', 'The four women are synchronized swimming in an outside pool', 'Three people are handing out flyers.', 'Two people are sitting outside.', 'The man is inside.', 'The two men are waiting on the bowl of Fruit Loops to get done.', 'A group of people hang around outside', 'Three men breaking into a car.', 'The people are playing musical chairs', 'A woman has a dental procedure performed.', 'Girl wearing a plaid dress.', 'A person on rollerblades struggles uphill while others watch.', 'A person drops two Frisbees.', 'The boat is on the water moving.', 'People standing in front of a door.', 'A violist plays.', 'A man smokes a cigarette outside.', 'As the temperature reaches a high of 120 degrees, doctors are on scene examining people for sunburns', 'A boy is playing with a toy as another boy looks on in jealousy.', 'A child by the water.', 'the men are very bored', 'The sad child with the pitcher is draining the water out of the boat.', 'A 55 year-old is sleeping on the slide.', 'A person and two children are handling a blown-up blue glove.', 'The girl is sleeping in her bed.', 'The dog chases a Frisbee his owner threw for him to catch, while at the dog park.', 'Three people are outside.', 'A frowning child wears a costume.', 'The two Asian women are preforming in a concert.', 'The black dog is chasing the brown dog.', 'Men are fixing a house damaged by the storm.', 'A man is watching a dog in the distance.', 'A female soldier wears her combat uniform.', 'Two women in dirty clothes are walking in a parking lot with large backpacks.', 'A man is out for a walk in town.', 'The boy is celebrating the Fourth of July.', 'There are wheels involved in this movement.', 'A woman is showing off to the man behind her.', 'A couple is walking outside.', 'A little girl is playing with her father.', 'The older man is walking past armed guards on stairs.', 'A man is in the forest.', 'A person opens a door.', 'The girl is outside.', 'A woman is about to surf', 'Women are twerking.', 'The team is eating pizza at a restaurant.', 'The kids are swimming', 'Someone holds a carved wooden instrument.', 'people ready for dinner', 'A young right handed boy is wearing a white batting helmet.', 'Two football players play basketball.', 'A man jumping over concrete', 'an old man sits by the street', 'Two people are in a car.', 'The runner is wearing pink and blue.', 'A large group of children splash and play in the fountains.', '5 farmers harvesting coconut', 'two animals attack another', 'Women walk on the street.', 'Three men are joyously outside at sunset', 'A woman carries her purse with her to the concert.', 'Two men are on laptops.', 'Man climbing wall', 'the man was grilling food', 'A man sits in a racing car.', 'a kid draws something for his parents', 'Santa, a former rock climber, is thankful that he still has the upper body strength that he used to after he missed the chimney.', 'A man surfs.', 'A little girl is wearing clothes.', 'A child is looking at something.', 'someone is walking outside', 'The man is in the theatre watching Avatar.', 'Two women make iced tea in a kitchen.', 'People are indoors.', 'There is a metal worker outdoors.', 'A girl lays in the grass and reads.', 'Some humans', 'A construction worker drives a truck.', 'A man is cleaning his room.', 'There is a person taking pictures.', 'The girl waits for her friend on the snowy hillside.', 'A woman is riding in a taxi thinking about how awful it was to cross the street.', 'An animal is traveling upwards.', 'Two people in matching red shirts sit on a lifeguard perch.', 'Girls talking to a free candy man.', 'The boys are all wearing ballet costumes.', 'Children are getting wet.', 'Two men are fighting.', 'A festival is in town and people are starting to set up different colored booths in front of a store while one man stands guard.', 'Little boy thinking of something and smiling on the stairs', 'The cat will win the race.', 'Nobody is smoking', 'A golden retriever is running towards their owner through a field of flowers.', 'The dogs are resting in the sand.', 'A girl is outside', 'There is a vehicle in front of water.', 'The young adults know each other.', 'The locomotive was built in the 1800s and can still run.', 'A man is kayaking in an ocean race.', 'A black dog and a white dog have escaped from their home.', 'A baby is being fed.', 'Humans near a car.', 'A woman is skinny dipping in the ocean.', 'A guy in a black shirt is skateboarding.', 'The men lost their shirts while gambling together.', 'People on the stage are holding log poles while dancing', 'a puppy is playing fetch with his owner while camping', 'Two people have stopped on their bikes.', 'A man is singing.', 'A person is outdoors.', 'the men are doctors', 'A man walks down a crowded street.', 'Two people await a train.', \"The person in the planetarium is inspecting the projector to make sure it'll work for their next presentation.\", 'A man is speaking to an audience.', \"The girl's tongue is colored because of the cherry drink she had.\", 'Four children are posing for a photo.', 'A girl is fighting a bear on Pluto.', 'A group of kids are sitting in the classroom.', 'A man enjoying a drink at a bar top alone.', 'The people are religious', 'Two patriotic men in the back of a classic convertible ride along in a small parade.', 'Several men playing basketball.', 'A girl stands and washes up.', 'Some people are painting a fence by a house', 'A gentleman is sitting at the bar.', 'A couple speak with a representative from a large corporation.', 'A dog is sleeping in his bed.', 'A man is leaving the grocery store.', 'A woman is holding a cat.', 'The two men are outdoors.', 'There is a man about to grill some steaks.', 'The horses are in the pasture.', 'Nobody is watching', 'A tennis player playing in a tournament.', 'Five people sitting in a garbage bin.', 'Three men are on a scaffold doing masonry work on a building that is being remodeled.', 'A boy in blue is standing on a playground.', 'A woman is holding a comb.', 'A girl wearing shorts is jumping in the sand.', 'the restaurant has people inside it', 'The yacht sails by the mountain.', 'Two dogs are eating.', 'They are young.', 'Three dogs are outside.', 'A woman sits behind her desk making a potrait of a young boy.', 'a woman has something in her arms', 'Volleyball match at 2008 Olympics.', 'A woman combs her hair.', 'A woman enjoys a latte while taking her dog to the groomer.', 'A man is exercising.', 'A young woman sings in the shower.', 'A couple sit close together.', 'People see writing on wall.', 'The man and woman are sitting on a pew in the church', 'A man is surrounded by people while looking through a telescope', 'The kid is in a skateboarding competition.', 'No one is in the room.', 'A man is working on a new computer program at his desk.', 'A massive amount of pedestrians are filling a street.', 'The boy is carrying a pail of water from the watering hole.', 'A person ducking', 'The soccer players are shooting baskets in the gym.', 'A man has tattoos', 'The boy keeps falling off the hammock.', 'The people are driving by the Empire State Building.', 'The man is using a tractor.', 'A woman is running on the street.', 'The chevrolet is being presented by a woman', 'The cowboy got kicked off a bucking horse', 'Kids are doing poorly at martial arts.', 'Some Asians are sitting down for lunch.', 'Two women are smiling for the camera.', 'five women are working in a field wearing bandanas', 'A woman with her newborn.', 'A person sleeping on a bench with a book.', 'A father is spending his saturday with his kids', \"The scorekeeper and Grant's caddy are waiting for Grant to hit the gold ball.\", 'Women are dancing.', 'A long-haired guy doing a backflip on a small trampoline.', 'The man is asleep on a sandy beach.', 'People are sitting on a bench in front a body of water in the summertime.', 'A man in a pink body suit is dancing.', 'the man danced alone in the kitchen', 'A police officer is taking pictures of the scene with a 35mm camera.', 'The biker is wearing all black.', 'Two people are working on a metal beam.', 'A man and a woman both wear red.', 'An old man is on a bike trail for a charity ride.', 'A man is walking.', 'The man was eating a sandwich.', 'A guy attempting a trick with skateboard in a competition', 'A man is shucking ears of corn for the patrons.', 'A man is holding an old mining lantern.', 'A dog is getting scrubbed with bathwater in the kitchen.', 'The women are happy looking.', 'A male running on the street.', 'There is food being prepared.', 'A girl holds a life vest.', 'child at the beach plays with ball', 'The man is pointing something out.', 'young girl is trying to sway votes', 'A baby is sleeping in its crib.', 'A woman pours a glass of orange juice.', 'some walkers use their umbrellas to stay out of the rain', 'Three girls are playing hockey in a large room.', 'A girl plays in puddles on the street by herself.', 'The skier skis through the woods.', 'The man is wearing a pink shirt.', 'The workers are frowning at the children.', 'Woman holding her daughter', 'A child is wearing clothing.', 'The people are not listening.', 'The woman is wearing high heels.', 'A man moves a cart full of items.', 'People are using an instrument that helps them see farther.', 'A car full of children.', 'A man is holding a baby', 'There is a boy playing football.', 'A scientist is spacing out.', 'The boat is on the water.', 'a person can stand on the sidewalk', 'Many people gather at a train station to socialize.', 'Two men with hats are standing next to horses.', 'Two people are playing frisbee', 'The girl is on a pink bike.', 'The women are prostitutes.', 'An American child riding his tiny motorcycle down the street as father watches', 'The three children are playing with ducks at the park.', 'Girl is on a teeter totter.', 'The dog jumped for the red ball.', 'A man is running on a treadmill at the gym.', 'A craftsman is coming up with new products at work.', 'A man summons his flea army to attack.', 'The men are running down the street.', 'A football player completing a pass.', 'The men are strong enough to lift the branch.', 'People are in a competition.', 'two women are dressed like twins are crying and frowning.', 'A hiker looks at the view from the precipice.', 'Four people are taking pictures of eachother.', 'A young boy swings a red bat.', 'This child wants to be an artist, so he is finger painting.', 'The mother and child are at a tea party in Brooklyn.', 'War reenacters participate in the parade to drum up awareness of the new history museum in Massachussetts.', 'He is working on a doghouse.', 'Nobody has a shirt', 'People are on a street.', 'A man is hitch hiking.', 'A boy and girl are both riding scooters outside.', 'A man is eating a cheesecake.', 'Women going to a dance club.', 'Men press their heads against one another while holding hands.', 'Four guys hanging out on the dock at the lake.', 'Large group of people at a outdoor market with some people sitting in front of pans of corndogs.', 'A man is preparing to buy a pet', 'The kid is swimming.', 'Two childhood rivals face each other in the football game.', 'There is an audience.', 'Two people with instruments are outside.', 'A dog walks around a pond.', 'The two people on the cell phones were talking to someone important', 'A young girl poses for pictures before the prom.', 'There are two police officers.', 'A man is pointing to a chalk drawing on the sidewalk.', 'The man is wearing a red shirt.', 'Nobody is standing', 'The man is smelling roses while drinking champagne.', 'A child doing her math homework quietly.', 'All of the women are blonde.', 'The man smiles while driving his truck.', 'The floor tiles are perfect squares.', 'The scissors only have one blade.', 'Three men on a lake.', 'an old man goes swimming in a pond', 'The dog is limping across the field.', 'Two Asian woman are playing Chinese Chess.', 'A girl is swinging her brother.', 'Many people are facing towards the Space Needle.', 'A woman is performing on the street for money.', 'The large group of players are in a line.', 'An empty tractor parked inside a garage', 'The dogs are sitting', 'Two people are talking about going on a road trip.', 'Two dogs are trying to catch snowflakes.', 'A man wearing a shirt is talking.', 'A custodian is moving furniture.', 'the woman skates in the hole on her birthday', 'A man carrying pineapples on his head.', 'the guy in overalls is on a two wheeled machine', 'A girl is outside.', 'I man is out in the cold passing over water.', 'A man with a wicker has is asleep.', 'Two kids are fighting.', 'The tired puppy stops to drink water.', 'People looking in the distance', 'A woman is asleep in the street.', 'There are two women.', 'A little boy sit next a fireplace.', 'The arm belongs to its mother.', 'Woman are making notes and putting them on an overflowing board.', 'The couple is in coats', 'the chair is broken', 'There are people doing dangerous things.', 'Two people are cutting a cooked turkey.', 'The man is an artist.', 'There is no onion.', 'These people are burning calories.', 'Someone is laying in the sun', 'A group of people are standing around talking.', 'The train is not a good place to ride a bicycle', 'the bike is flat black', 'The two men are enjoying a rock concert.']\n"
          ]
        }
      ],
      "source": [
        "combined_tmp = quadruple_array[:,3]\n",
        "combined_second_sentence_lens = extract_second_sentence_len(combined_tmp)\n",
        "combined_second_sentences = []\n",
        "for i in range(len(combined_tmp)):\n",
        "  combined_second_sentences.append(combined_tmp[i][-combined_second_sentence_lens[i]:])\n",
        "print(combined_second_sentences)"
      ]
    },
    {
      "cell_type": "markdown",
      "metadata": {
        "id": "NLcZB0pKioQ9"
      },
      "source": [
        "For each data item, obtain a tensor of shape torch.Size([1, num_tokens_sentence2, 768]), where num_tokens equals the number of tokens in combined_sentences."
      ]
    },
    {
      "cell_type": "code",
      "execution_count": null,
      "metadata": {
        "id": "ZW3mAubrK6MC"
      },
      "outputs": [],
      "source": [
        "combined_tmp = quadruple_array[:,3]\n",
        "hidden_states = []\n",
        "layer_name = \"\"\n",
        "if PROBING_LAYER == \"h0.mlp\":\n",
        "  layer_name = \"transformer.h.0.mlp\"\n",
        "elif PROBING_LAYER == \"h5.mlp\":\n",
        "  layer_name = \"transformer.h.5.mlp\"\n",
        "elif PROBING_LAYER == \"h9.mlp\":\n",
        "  layer_name = \"transformer.h.9.mlp\"\n",
        "\n",
        "from baukit import Trace\n",
        "with Trace(model, layer_name) as ret:\n",
        "  for i in range(len(combined_tmp)):\n",
        "    combined_tmp_tens = torch.tensor(tokenizer.encode(combined_tmp[i])).unsqueeze(0).to(device)\n",
        "    _ = model(combined_tmp_tens)\n",
        "    representation = ret.output\n",
        "    hidden_states.append(representation)\n",
        "modified_second_sentence_hidden = []\n",
        "for i in range(len(hidden_states)):\n",
        "  modified_second_sentence_hidden.append(hidden_states[i][:,-combined_second_sentence_lens[i]:,:])\n",
        "\n",
        "modified_second_sentence_hidden = [entry.cpu().detach().numpy() for entry in modified_second_sentence_hidden]"
      ]
    },
    {
      "cell_type": "markdown",
      "metadata": {
        "id": "LMyKJZVCZE4J"
      },
      "source": [
        "Store the items into a pickle object in the Google Drive."
      ]
    },
    {
      "cell_type": "code",
      "execution_count": null,
      "metadata": {
        "id": "FdmG9VAPdPYD"
      },
      "outputs": [],
      "source": [
        "import pickle\n",
        "GENERATED_DB_PATH = '/content/drive/My Drive/Colab Notebooks/Dataset/generated_db'\n",
        "def storeData():\n",
        "    # initializing data to be stored in db\n",
        "    sampled_data[\"hidden_states\"] = pd.Series(modified_second_sentence_hidden)\n",
        "    db = sampled_data[['gold_label', 'sentence1', 'sentence2', 'hidden_states']]\n",
        "    print(db)\n",
        "    dbfile = open(GENERATED_DB_PATH, 'ab')\n",
        "    # source, destination\n",
        "    pickle.dump(db, dbfile)\n",
        "    dbfile.close()\n",
        "\n",
        "def loadData():\n",
        "    # for reading also binary mode is important\n",
        "    dbfile = open(GENERATED_DB_PATH, 'rb')\n",
        "    db = pickle.load(dbfile)\n",
        "    print(db)\n",
        "    dbfile.close()\n",
        "    return db"
      ]
    },
    {
      "cell_type": "code",
      "execution_count": null,
      "metadata": {
        "colab": {
          "base_uri": "https://localhost:8080/"
        },
        "id": "r-1JzwVIZEoF",
        "outputId": "9fc28d14-defd-45aa-9f1e-249e05290c37"
      },
      "outputs": [
        {
          "name": "stdout",
          "output_type": "stream",
          "text": [
            "        gold_label                                          sentence1  \\\n",
            "0    contradiction  People crossing a river on a narrow wooden bri...   \n",
            "1       entailment          two men in a ring getting ready to fight.   \n",
            "2          neutral  A woman walking with a beverage in her right h...   \n",
            "3          neutral  A martial artist pins her opponent by sitting ...   \n",
            "4       entailment  A man in dark clothes uses a tourist telescope...   \n",
            "..             ...                                                ...   \n",
            "495  contradiction            Someone is preparing some kind of food.   \n",
            "496        neutral  A group of five men are standing in the middle...   \n",
            "497     entailment  A person is in the air while riding his bicycl...   \n",
            "498  contradiction  An orange and white motorcycle is being ridden...   \n",
            "499        neutral  Two excited men standing in front of very larg...   \n",
            "\n",
            "                                           sentence2  \\\n",
            "0                    People are sitting on a bridge.   \n",
            "1                 Two racelers were ready for fight.   \n",
            "2                             A woman enjoys a beer.   \n",
            "3                   A martial artist fighting to win   \n",
            "4              A man is looking through a telescope.   \n",
            "..                                               ...   \n",
            "495                     Someone is laying in the sun   \n",
            "496   A group of people are standing around talking.   \n",
            "497  The train is not a good place to ride a bicycle   \n",
            "498                           the bike is flat black   \n",
            "499         The two men are enjoying a rock concert.   \n",
            "\n",
            "                                         hidden_states  \n",
            "0    [[[-1.1192279, -0.68539894, -0.924688, -0.4746...  \n",
            "1    [[[0.01992619, 0.010280296, -0.2570778, 0.0571...  \n",
            "2    [[[-1.8270779, -0.666681, -0.6146007, 0.832498...  \n",
            "3    [[[0.03278257, -0.029743627, -0.20907763, 0.04...  \n",
            "4    [[[0.03278257, -0.029743627, -0.20907763, 0.04...  \n",
            "..                                                 ...  \n",
            "495  [[[-0.021876499, 0.037197456, -0.27293137, 0.0...  \n",
            "496  [[[0.032782376, -0.029743388, -0.20907697, 0.0...  \n",
            "497  [[[0.032782376, -0.029743388, -0.20907697, 0.0...  \n",
            "498  [[[-0.48006418, 1.1029636, -0.7326388, 0.45265...  \n",
            "499  [[[0.7018121, 0.25889975, -0.25101197, -0.8142...  \n",
            "\n",
            "[500 rows x 4 columns]\n"
          ]
        }
      ],
      "source": [
        "# store the dataset into Google drive\n",
        "storeData()"
      ]
    },
    {
      "cell_type": "markdown",
      "metadata": {
        "id": "e5C0Vsyni9CY"
      },
      "source": [
        "## Training a Classifier"
      ]
    },
    {
      "cell_type": "markdown",
      "metadata": {
        "id": "xj3fbxHWkl12"
      },
      "source": [
        "### **My classifier (Attention Pooling Classifier similar to the one in paper: Self-Attention Encoding and Pooling for Speaker Recognition)**\n"
      ]
    },
    {
      "cell_type": "code",
      "execution_count": null,
      "metadata": {
        "id": "aa6A89EnoJ9h"
      },
      "outputs": [],
      "source": [
        "# Hyper parameters\n",
        "BATCH_SIZE = 4\n",
        "dm = 768\n",
        "# hidden_size_1 = 16\n",
        "# hidden_size_2 = 4\n",
        "num_classes = 3\n",
        "num_epochs = 50\n"
      ]
    },
    {
      "cell_type": "code",
      "execution_count": null,
      "metadata": {
        "id": "CUYHHwxti8tX"
      },
      "outputs": [],
      "source": [
        "import torch\n",
        "import torch.nn as nn\n",
        "import torch.nn.functional as F\n",
        "\n",
        "# class DNN(nn.Module):\n",
        "#     def __init__(self, input_size, hidden_size_1, hidden_size_2, num_classes):\n",
        "#         super(DNN, self).__init__()\n",
        "#         self.fc1 = nn.Linear(input_size, hidden_size_1)\n",
        "#         self.fc2 = nn.Linear(hidden_size_1, hidden_size_2)\n",
        "#         self.fc3 = nn.Linear(hidden_size_2, num_classes)\n",
        "#         self.dropout = nn.Dropout(p=0.05)\n",
        "\n",
        "#     def forward(self, x):\n",
        "#         x = F.relu(self.fc1(x))\n",
        "#         x = self.dropout(x)\n",
        "#         x = F.relu(self.fc2(x))\n",
        "#         x = self.dropout(x)\n",
        "#         x = F.relu(self.fc3(x))\n",
        "#         x = self.dropout(x)\n",
        "#         return x\n",
        "\n",
        "class DNNSingleLayer(nn.Module):\n",
        "    def __init__(self, input_size, num_classes):\n",
        "        super(DNNSingleLayer, self).__init__()\n",
        "        self.fc = nn.Linear(input_size, num_classes)\n",
        "        self.dropout = nn.Dropout(p=0.05)\n",
        "\n",
        "    def forward(self, x):\n",
        "        x = self.dropout(x)\n",
        "        x = F.relu(self.fc(x))\n",
        "        x = F.softmax(x, dim=1)\n",
        "        return x\n",
        "\n",
        "class AttentionPooling(nn.Module):\n",
        "    def __init__(self, feature_dim):\n",
        "        super(AttentionPooling, self).__init__()\n",
        "        # Initialize the trainable weight parameter W_c with the appropriate shape\n",
        "        # feature_dim corresponds to dm in the equation\n",
        "        self.W_c = nn.Parameter(torch.randn(feature_dim))\n",
        "\n",
        "    def forward(self, H):\n",
        "        # H is the sequence of encoded features with shape (batch_size, T, dm)\n",
        "        # W_c is the trainable parameter with shape (dm,)\n",
        "        # We need to expand W_c to match the batch size and perform batch matrix multiplication\n",
        "\n",
        "        # First, we expand W_c to (batch_size, 1, dm) to perform bmm with H.transpose(1, 2) which is (batch_size, dm, T)\n",
        "        batch_size, T, dm = H.size()\n",
        "        W_c_expanded = self.W_c.expand(batch_size, dm).unsqueeze(1)\n",
        "\n",
        "        # Calculate compatibility scores using batched matrix multiplication (bmm)\n",
        "        compatibility = torch.bmm(W_c_expanded, H.transpose(1, 2))  # Shape: (batch_size, 1, T)\n",
        "\n",
        "        # Squeeze to remove the second dimension and apply softmax to get attention weights\n",
        "        # Now it's (batch_size, T)\n",
        "        attention_weights = F.softmax(compatibility.squeeze(1), dim=-1)\n",
        "\n",
        "        # Calculate the segment-level representation as a weighted sum of H\n",
        "        # We expand attention_weights to (batch_size, 1, T) and perform bmm with H (batch_size, T, dm)\n",
        "        C = torch.bmm(attention_weights.unsqueeze(1), H).squeeze(1) # Shape: (batch_size, dm)\n",
        "        return C\n",
        "\n",
        "class CombinedNetwork(nn.Module):\n",
        "    def __init__(self, dm, num_classes):\n",
        "        super(CombinedNetwork, self).__init__()\n",
        "        self.attention_pooling = AttentionPooling(dm)\n",
        "        # self.dnn_classifier = DNN(dm, hidden_size_1, hidden_size_2, num_classes)\n",
        "        self.dnn_classifier = DNNSingleLayer(dm, num_classes)\n",
        "\n",
        "    def forward(self, x):\n",
        "        # Apply attention pooling to the input sequence\n",
        "        pooled_representation = self.attention_pooling(x)\n",
        "        # Feed the result into the DNN classifier\n",
        "        class_probabilities = self.dnn_classifier(pooled_representation)\n",
        "        return class_probabilities\n",
        "\n"
      ]
    },
    {
      "cell_type": "code",
      "execution_count": null,
      "metadata": {
        "colab": {
          "base_uri": "https://localhost:8080/"
        },
        "id": "r9a7M1exnqhD",
        "outputId": "ae0dd6bd-545a-4c98-ecac-f2f62069af27"
      },
      "outputs": [
        {
          "name": "stdout",
          "output_type": "stream",
          "text": [
            "        gold_label                                          sentence1  \\\n",
            "0    contradiction  People crossing a river on a narrow wooden bri...   \n",
            "1       entailment          two men in a ring getting ready to fight.   \n",
            "2          neutral  A woman walking with a beverage in her right h...   \n",
            "3          neutral  A martial artist pins her opponent by sitting ...   \n",
            "4       entailment  A man in dark clothes uses a tourist telescope...   \n",
            "..             ...                                                ...   \n",
            "495  contradiction            Someone is preparing some kind of food.   \n",
            "496        neutral  A group of five men are standing in the middle...   \n",
            "497     entailment  A person is in the air while riding his bicycl...   \n",
            "498  contradiction  An orange and white motorcycle is being ridden...   \n",
            "499        neutral  Two excited men standing in front of very larg...   \n",
            "\n",
            "                                           sentence2  \\\n",
            "0                    People are sitting on a bridge.   \n",
            "1                 Two racelers were ready for fight.   \n",
            "2                             A woman enjoys a beer.   \n",
            "3                   A martial artist fighting to win   \n",
            "4              A man is looking through a telescope.   \n",
            "..                                               ...   \n",
            "495                     Someone is laying in the sun   \n",
            "496   A group of people are standing around talking.   \n",
            "497  The train is not a good place to ride a bicycle   \n",
            "498                           the bike is flat black   \n",
            "499         The two men are enjoying a rock concert.   \n",
            "\n",
            "                                         hidden_states  \n",
            "0    [[[-0.7631672, 0.26333582, -2.2394764, 0.75119...  \n",
            "1    [[[0.19278878, 0.17564659, 0.18873265, -2.4647...  \n",
            "2    [[[-1.191144, -0.22234373, -2.1367679, 1.15696...  \n",
            "3    [[[-0.8859084, -0.15986834, 0.28538784, -1.411...  \n",
            "4    [[[-0.8859084, -0.15986834, 0.28538784, -1.411...  \n",
            "..                                                 ...  \n",
            "495  [[[0.55328816, -0.02583997, 0.44448045, -0.389...  \n",
            "496  [[[-0.8859083, -0.15986896, 0.285388, -1.41153...  \n",
            "497  [[[-0.8859083, -0.15986896, 0.285388, -1.41153...  \n",
            "498  [[[0.46229935, 0.5111836, 0.121081226, -0.0350...  \n",
            "499  [[[0.024857841, -0.35396606, -1.089722, -0.338...  \n",
            "\n",
            "[500 rows x 4 columns]\n",
            "77\n",
            "torch.Size([4, 77, 768]) tensor([0, 0, 1, 0])\n",
            "torch.Size([4, 77, 768]) tensor([1, 1, 0, 1])\n",
            "torch.Size([4, 77, 768]) tensor([2, 0, 1, 2])\n",
            "torch.Size([4, 77, 768]) tensor([0, 0, 1, 0])\n",
            "torch.Size([4, 77, 768]) tensor([2, 0, 0, 1])\n",
            "torch.Size([4, 77, 768]) tensor([1, 2, 1, 2])\n",
            "torch.Size([4, 77, 768]) tensor([1, 1, 2, 0])\n",
            "torch.Size([4, 77, 768]) tensor([2, 0, 2, 0])\n",
            "torch.Size([4, 77, 768]) tensor([2, 0, 1, 1])\n",
            "torch.Size([4, 77, 768]) tensor([2, 2, 0, 1])\n",
            "torch.Size([4, 77, 768]) tensor([2, 0, 2, 0])\n",
            "torch.Size([4, 77, 768]) tensor([0, 0, 0, 2])\n",
            "torch.Size([4, 77, 768]) tensor([0, 2, 0, 1])\n",
            "torch.Size([4, 77, 768]) tensor([1, 0, 2, 0])\n",
            "torch.Size([4, 77, 768]) tensor([1, 1, 1, 1])\n",
            "torch.Size([4, 77, 768]) tensor([2, 1, 0, 2])\n",
            "torch.Size([4, 77, 768]) tensor([0, 1, 2, 2])\n",
            "torch.Size([4, 77, 768]) tensor([1, 0, 2, 0])\n",
            "torch.Size([4, 77, 768]) tensor([2, 1, 0, 2])\n",
            "torch.Size([4, 77, 768]) tensor([2, 0, 1, 0])\n",
            "torch.Size([4, 77, 768]) tensor([0, 0, 1, 2])\n",
            "torch.Size([4, 77, 768]) tensor([2, 1, 2, 1])\n",
            "torch.Size([4, 77, 768]) tensor([2, 1, 2, 1])\n",
            "torch.Size([4, 77, 768]) tensor([0, 1, 2, 0])\n",
            "torch.Size([4, 77, 768]) tensor([1, 1, 1, 0])\n",
            "torch.Size([4, 77, 768]) tensor([2, 1, 2, 0])\n",
            "torch.Size([4, 77, 768]) tensor([0, 0, 2, 1])\n",
            "torch.Size([4, 77, 768]) tensor([0, 1, 1, 1])\n",
            "torch.Size([4, 77, 768]) tensor([0, 0, 0, 2])\n",
            "torch.Size([4, 77, 768]) tensor([1, 0, 1, 2])\n",
            "torch.Size([4, 77, 768]) tensor([1, 0, 2, 1])\n",
            "torch.Size([4, 77, 768]) tensor([0, 1, 0, 1])\n",
            "torch.Size([4, 77, 768]) tensor([1, 0, 0, 0])\n",
            "torch.Size([4, 77, 768]) tensor([1, 2, 1, 1])\n",
            "torch.Size([4, 77, 768]) tensor([1, 2, 2, 1])\n",
            "torch.Size([4, 77, 768]) tensor([0, 0, 2, 2])\n",
            "torch.Size([4, 77, 768]) tensor([1, 0, 0, 2])\n",
            "torch.Size([4, 77, 768]) tensor([2, 2, 1, 0])\n",
            "torch.Size([4, 77, 768]) tensor([0, 2, 2, 1])\n",
            "torch.Size([4, 77, 768]) tensor([1, 0, 2, 0])\n",
            "torch.Size([4, 77, 768]) tensor([2, 0, 2, 1])\n",
            "torch.Size([4, 77, 768]) tensor([2, 1, 1, 2])\n",
            "torch.Size([4, 77, 768]) tensor([2, 1, 1, 1])\n",
            "torch.Size([4, 77, 768]) tensor([1, 1, 1, 1])\n",
            "torch.Size([4, 77, 768]) tensor([0, 0, 2, 2])\n",
            "torch.Size([4, 77, 768]) tensor([1, 1, 2, 2])\n",
            "torch.Size([4, 77, 768]) tensor([0, 2, 0, 0])\n",
            "torch.Size([4, 77, 768]) tensor([1, 2, 1, 1])\n",
            "torch.Size([4, 77, 768]) tensor([1, 2, 1, 2])\n",
            "torch.Size([4, 77, 768]) tensor([2, 0, 2, 1])\n",
            "torch.Size([4, 77, 768]) tensor([2, 2, 0, 2])\n",
            "torch.Size([4, 77, 768]) tensor([2, 1, 0, 0])\n",
            "torch.Size([4, 77, 768]) tensor([1, 0, 1, 1])\n",
            "torch.Size([4, 77, 768]) tensor([0, 2, 0, 1])\n",
            "torch.Size([4, 77, 768]) tensor([1, 1, 1, 2])\n",
            "torch.Size([4, 77, 768]) tensor([0, 2, 2, 2])\n",
            "torch.Size([4, 77, 768]) tensor([1, 2, 1, 1])\n",
            "torch.Size([4, 77, 768]) tensor([0, 2, 0, 0])\n",
            "torch.Size([4, 77, 768]) tensor([0, 1, 0, 2])\n",
            "torch.Size([4, 77, 768]) tensor([1, 0, 0, 2])\n",
            "torch.Size([4, 77, 768]) tensor([1, 2, 2, 1])\n",
            "torch.Size([4, 77, 768]) tensor([2, 1, 1, 0])\n",
            "torch.Size([4, 77, 768]) tensor([1, 0, 0, 2])\n",
            "torch.Size([4, 77, 768]) tensor([2, 0, 1, 2])\n",
            "torch.Size([4, 77, 768]) tensor([2, 0, 2, 1])\n",
            "torch.Size([4, 77, 768]) tensor([2, 0, 2, 2])\n",
            "torch.Size([4, 77, 768]) tensor([1, 1, 1, 2])\n",
            "torch.Size([4, 77, 768]) tensor([2, 1, 0, 0])\n",
            "torch.Size([4, 77, 768]) tensor([1, 2, 2, 0])\n",
            "torch.Size([4, 77, 768]) tensor([0, 0, 2, 2])\n",
            "torch.Size([4, 77, 768]) tensor([2, 2, 2, 2])\n",
            "torch.Size([4, 77, 768]) tensor([0, 2, 2, 1])\n",
            "torch.Size([4, 77, 768]) tensor([0, 0, 2, 2])\n",
            "torch.Size([4, 77, 768]) tensor([0, 0, 2, 2])\n",
            "torch.Size([4, 77, 768]) tensor([0, 2, 0, 1])\n",
            "torch.Size([4, 77, 768]) tensor([1, 2, 1, 2])\n",
            "torch.Size([4, 77, 768]) tensor([2, 2, 1, 0])\n",
            "torch.Size([4, 77, 768]) tensor([1, 2, 2, 2])\n",
            "torch.Size([4, 77, 768]) tensor([1, 2, 1, 1])\n",
            "torch.Size([4, 77, 768]) tensor([2, 2, 0, 0])\n",
            "torch.Size([4, 77, 768]) tensor([0, 0, 0, 0])\n",
            "torch.Size([4, 77, 768]) tensor([1, 0, 0, 1])\n",
            "torch.Size([4, 77, 768]) tensor([2, 1, 2, 2])\n",
            "torch.Size([4, 77, 768]) tensor([1, 0, 0, 0])\n",
            "torch.Size([4, 77, 768]) tensor([1, 1, 2, 1])\n",
            "torch.Size([4, 77, 768]) tensor([1, 2, 0, 2])\n",
            "torch.Size([4, 77, 768]) tensor([1, 2, 0, 2])\n",
            "torch.Size([4, 77, 768]) tensor([1, 1, 0, 2])\n",
            "torch.Size([4, 77, 768]) tensor([1, 1, 0, 2])\n",
            "torch.Size([4, 77, 768]) tensor([2, 0, 0, 1])\n",
            "torch.Size([4, 77, 768]) tensor([2, 2, 1, 2])\n",
            "torch.Size([4, 77, 768]) tensor([1, 1, 0, 1])\n",
            "torch.Size([4, 77, 768]) tensor([0, 0, 1, 1])\n",
            "torch.Size([4, 77, 768]) tensor([1, 1, 2, 2])\n",
            "torch.Size([4, 77, 768]) tensor([1, 0, 0, 2])\n",
            "torch.Size([4, 77, 768]) tensor([2, 1, 1, 0])\n",
            "torch.Size([4, 77, 768]) tensor([2, 0, 1, 2])\n",
            "torch.Size([4, 77, 768]) tensor([0, 0, 1, 1])\n",
            "torch.Size([4, 77, 768]) tensor([1, 1, 0, 2])\n",
            "torch.Size([4, 77, 768]) tensor([1, 1, 2, 0])\n",
            "torch.Size([4, 77, 768]) tensor([2, 0, 0, 2])\n",
            "torch.Size([4, 77, 768]) tensor([2, 1, 0, 0])\n",
            "torch.Size([4, 77, 768]) tensor([0, 1, 0, 2])\n",
            "torch.Size([4, 77, 768]) tensor([2, 0, 0, 1])\n",
            "torch.Size([4, 77, 768]) tensor([0, 0, 0, 0])\n",
            "torch.Size([4, 77, 768]) tensor([1, 1, 0, 1])\n",
            "torch.Size([4, 77, 768]) tensor([0, 2, 0, 0])\n",
            "torch.Size([4, 77, 768]) tensor([0, 0, 1, 0])\n",
            "torch.Size([4, 77, 768]) tensor([2, 2, 2, 1])\n",
            "torch.Size([4, 77, 768]) tensor([0, 1, 2, 2])\n",
            "torch.Size([4, 77, 768]) tensor([0, 1, 1, 2])\n",
            "torch.Size([4, 77, 768]) tensor([1, 1, 2, 0])\n",
            "torch.Size([4, 77, 768]) tensor([2, 0, 1, 0])\n",
            "torch.Size([4, 77, 768]) tensor([0, 1, 2, 1])\n",
            "torch.Size([4, 77, 768]) tensor([1, 0, 2, 1])\n",
            "torch.Size([4, 77, 768]) tensor([1, 1, 1, 0])\n",
            "torch.Size([4, 77, 768]) tensor([0, 2, 0, 0])\n",
            "torch.Size([4, 77, 768]) tensor([0, 0, 1, 2])\n",
            "torch.Size([4, 77, 768]) tensor([1, 0, 1, 1])\n",
            "torch.Size([4, 77, 768]) tensor([0, 0, 1, 2])\n",
            "torch.Size([4, 77, 768]) tensor([0, 2, 2, 2])\n",
            "torch.Size([4, 77, 768]) tensor([0, 2, 2, 2])\n",
            "torch.Size([4, 77, 768]) tensor([2, 0, 2, 1])\n",
            "torch.Size([4, 77, 768]) tensor([2, 2, 0, 2])\n",
            "torch.Size([4, 77, 768]) tensor([0, 2, 2, 0])\n"
          ]
        }
      ],
      "source": [
        "from torch.utils.data import Dataset, DataLoader\n",
        "from sklearn.preprocessing import LabelEncoder\n",
        "from sklearn.model_selection import train_test_split\n",
        "\n",
        "class CustomDataset(Dataset):\n",
        "    def __init__(self, dataframe, max_len=None):\n",
        "        self.dataframe = dataframe\n",
        "        self.label_encoder = LabelEncoder()\n",
        "        self.labels = self.label_encoder.fit_transform(dataframe['gold_label'])\n",
        "        self.hidden_states = dataframe['hidden_states']\n",
        "        self.max_len = max_len\n",
        "\n",
        "    def __len__(self):\n",
        "        return len(self.dataframe)\n",
        "\n",
        "    def __getitem__(self, idx):\n",
        "        label = self.labels[idx]\n",
        "        hidden_state = self.hidden_states.iloc[idx]\n",
        "        hidden_state = hidden_state.squeeze(0)\n",
        "\n",
        "        # Handle variable lengths\n",
        "        if self.max_len is not None:\n",
        "            # Truncate or pad the sequence\n",
        "            if hidden_state.shape[0] >= self.max_len:\n",
        "                hidden_state = torch.from_numpy(hidden_state[:self.max_len, :])\n",
        "            elif hidden_state.shape[0] < self.max_len:\n",
        "                padding = torch.zeros(self.max_len - hidden_state.shape[0], hidden_state.shape[1])\n",
        "                hidden_state = torch.cat((torch.from_numpy(hidden_state), padding), dim=0)\n",
        "\n",
        "        return hidden_state, label\n",
        "\n",
        "df = loadData()\n",
        "train_df, test_df = train_test_split(df, test_size=0.3, random_state=1)  # 70% training, 30% for test+validation\n",
        "validation_df, test_df = train_test_split(test_df, test_size=0.5, random_state=1)  # Split the 30% into half for validation and test\n",
        "\n",
        "max_len = df['hidden_states'].apply(lambda x: x.shape[1]).max()\n",
        "print(max_len)\n",
        "# Create the dataset\n",
        "dataset = CustomDataset(df, max_len=max_len)\n",
        "\n",
        "# Example of using DataLoader\n",
        "dataloader = DataLoader(dataset, batch_size=BATCH_SIZE, shuffle=True)\n",
        "\n",
        "for hidden_states, labels in dataloader:\n",
        "    print(hidden_states.shape, labels)"
      ]
    },
    {
      "cell_type": "code",
      "execution_count": null,
      "metadata": {
        "id": "y5LkWHN6olVZ"
      },
      "outputs": [],
      "source": [
        "from torch.optim import Adam, SGD\n",
        "\n",
        "train_dataset = CustomDataset(train_df, max_len=max_len)\n",
        "validation_dataset = CustomDataset(validation_df, max_len=max_len)\n",
        "test_dataset = CustomDataset(test_df, max_len=max_len)\n",
        "\n",
        "train_loader = DataLoader(train_dataset, batch_size=BATCH_SIZE, shuffle=True)\n",
        "validation_loader = DataLoader(validation_dataset, batch_size=BATCH_SIZE)\n",
        "test_loader = DataLoader(test_dataset, batch_size=BATCH_SIZE)"
      ]
    },
    {
      "cell_type": "markdown",
      "metadata": {
        "id": "5SC5sFTqqzi_"
      },
      "source": [
        "### Since the colab does not have sufficient GPU memory for training. We have to run the code for h0, h5, h9, seperately. Change the global variable defined in section \"Define which layer we want to probe: h.0.mlp/h.5.mlp/h.9.mlp\" to run different probing."
      ]
    },
    {
      "cell_type": "markdown",
      "metadata": {
        "id": "f1R-Yv5OrP3A"
      },
      "source": [
        "### Layer.h.0.mlp"
      ]
    },
    {
      "cell_type": "code",
      "execution_count": null,
      "metadata": {
        "colab": {
          "base_uri": "https://localhost:8080/"
        },
        "id": "nel0VEpvp2lQ",
        "outputId": "5a6aad3b-fd86-481c-d7f2-1a72b5e280e9"
      },
      "outputs": [
        {
          "name": "stdout",
          "output_type": "stream",
          "text": [
            "h0.mlp Epoch [1/50], Train Loss: 1.1057, Validation Loss: 1.0988\n",
            "h0.mlp Epoch [2/50], Train Loss: 1.0992, Validation Loss: 1.0984\n",
            "h0.mlp Epoch [3/50], Train Loss: 1.0893, Validation Loss: 1.0951\n",
            "h0.mlp Epoch [4/50], Train Loss: 1.0759, Validation Loss: 1.0906\n",
            "h0.mlp Epoch [5/50], Train Loss: 1.0671, Validation Loss: 1.0876\n",
            "h0.mlp Epoch [6/50], Train Loss: 1.0569, Validation Loss: 1.0822\n",
            "h0.mlp Epoch [7/50], Train Loss: 1.0449, Validation Loss: 1.0773\n",
            "h0.mlp Epoch [8/50], Train Loss: 1.0338, Validation Loss: 1.0739\n",
            "h0.mlp Epoch [9/50], Train Loss: 1.0275, Validation Loss: 1.0715\n",
            "h0.mlp Epoch [10/50], Train Loss: 1.0164, Validation Loss: 1.0702\n",
            "h0.mlp Epoch [11/50], Train Loss: 1.0140, Validation Loss: 1.0695\n",
            "h0.mlp Epoch [12/50], Train Loss: 1.0035, Validation Loss: 1.0694\n",
            "h0.mlp Epoch [13/50], Train Loss: 0.9960, Validation Loss: 1.0693\n",
            "h0.mlp Epoch [14/50], Train Loss: 0.9901, Validation Loss: 1.0685\n",
            "h0.mlp Epoch [15/50], Train Loss: 0.9874, Validation Loss: 1.0678\n",
            "h0.mlp Epoch [16/50], Train Loss: 0.9776, Validation Loss: 1.0668\n",
            "h0.mlp Epoch [17/50], Train Loss: 0.9693, Validation Loss: 1.0665\n",
            "h0.mlp Epoch [18/50], Train Loss: 0.9702, Validation Loss: 1.0656\n",
            "h0.mlp Epoch [19/50], Train Loss: 0.9643, Validation Loss: 1.0648\n",
            "h0.mlp Epoch [20/50], Train Loss: 0.9560, Validation Loss: 1.0642\n",
            "h0.mlp Epoch [21/50], Train Loss: 0.9517, Validation Loss: 1.0637\n",
            "h0.mlp Epoch [22/50], Train Loss: 0.9423, Validation Loss: 1.0627\n",
            "h0.mlp Epoch [23/50], Train Loss: 0.9450, Validation Loss: 1.0617\n",
            "h0.mlp Epoch [24/50], Train Loss: 0.9380, Validation Loss: 1.0608\n",
            "h0.mlp Epoch [25/50], Train Loss: 0.9345, Validation Loss: 1.0602\n",
            "h0.mlp Epoch [26/50], Train Loss: 0.9256, Validation Loss: 1.0598\n",
            "h0.mlp Epoch [27/50], Train Loss: 0.9223, Validation Loss: 1.0592\n",
            "h0.mlp Epoch [28/50], Train Loss: 0.9206, Validation Loss: 1.0593\n",
            "h0.mlp Epoch [29/50], Train Loss: 0.9196, Validation Loss: 1.0589\n",
            "h0.mlp Epoch [30/50], Train Loss: 0.9158, Validation Loss: 1.0590\n",
            "h0.mlp Epoch [31/50], Train Loss: 0.9130, Validation Loss: 1.0588\n",
            "h0.mlp Epoch [32/50], Train Loss: 0.9084, Validation Loss: 1.0588\n",
            "h0.mlp Epoch [33/50], Train Loss: 0.9040, Validation Loss: 1.0588\n",
            "h0.mlp Epoch [34/50], Train Loss: 0.9031, Validation Loss: 1.0585\n",
            "h0.mlp Epoch [35/50], Train Loss: 0.9000, Validation Loss: 1.0583\n",
            "h0.mlp Epoch [36/50], Train Loss: 0.8983, Validation Loss: 1.0581\n",
            "h0.mlp Epoch [37/50], Train Loss: 0.8901, Validation Loss: 1.0577\n",
            "h0.mlp Epoch [38/50], Train Loss: 0.8883, Validation Loss: 1.0571\n",
            "h0.mlp Epoch [39/50], Train Loss: 0.8875, Validation Loss: 1.0567\n",
            "h0.mlp Epoch [40/50], Train Loss: 0.8804, Validation Loss: 1.0564\n",
            "h0.mlp Epoch [41/50], Train Loss: 0.8801, Validation Loss: 1.0559\n",
            "h0.mlp Epoch [42/50], Train Loss: 0.8752, Validation Loss: 1.0558\n",
            "h0.mlp Epoch [43/50], Train Loss: 0.8734, Validation Loss: 1.0559\n",
            "h0.mlp Epoch [44/50], Train Loss: 0.8768, Validation Loss: 1.0561\n",
            "h0.mlp Epoch [45/50], Train Loss: 0.8706, Validation Loss: 1.0565\n",
            "h0.mlp Epoch [46/50], Train Loss: 0.8683, Validation Loss: 1.0571\n",
            "h0.mlp Epoch [47/50], Train Loss: 0.8705, Validation Loss: 1.0575\n",
            "h0.mlp Epoch [48/50], Train Loss: 0.8646, Validation Loss: 1.0583\n",
            "h0.mlp Epoch [49/50], Train Loss: 0.8617, Validation Loss: 1.0592\n",
            "h0.mlp Epoch [50/50], Train Loss: 0.8597, Validation Loss: 1.0603\n",
            "h0.mlp, best validation loss 1.0558133627239026\n"
          ]
        }
      ],
      "source": [
        "if PROBING_LAYER == \"h0.mlp\" and PROMPT == \"This has the same meaning as:\":\n",
        "  # Initialize the network, criterion, and optimizer as before\n",
        "\n",
        "  train_losses, validation_losses = [], []\n",
        "  best_val_loss = float('inf')\n",
        "  best_model_path = 'best_model.pth'\n",
        "  T = max_len\n",
        "  network = CombinedNetwork(dm, num_classes)\n",
        "  network.to(device)\n",
        "  criterion = nn.CrossEntropyLoss()\n",
        "  optimizer = Adam(network.parameters(), lr=0.00001)\n",
        "  for epoch in range(num_epochs):\n",
        "      network.train()\n",
        "      total_loss = 0\n",
        "      total_val_loss = 0\n",
        "      for hidden_states, labels in train_loader:\n",
        "          input = hidden_states.to(device)\n",
        "          target = labels.to(device)\n",
        "          outputs = network(input)\n",
        "          loss = criterion(outputs, target)\n",
        "          loss.backward()\n",
        "          optimizer.step()\n",
        "          total_loss += loss.item()\n",
        "\n",
        "      avg_train_loss = total_loss / len(train_loader)\n",
        "      train_losses.append(avg_train_loss)\n",
        "\n",
        "      network.eval()\n",
        "      total_loss = 0\n",
        "      with torch.no_grad():\n",
        "          for hidden_states, labels in validation_loader:\n",
        "              input = hidden_states.to(device)\n",
        "              target = labels.to(device)\n",
        "              outputs = network(input)\n",
        "              loss = criterion(outputs, target)\n",
        "              total_val_loss += loss.item()\n",
        "\n",
        "      avg_val_loss = total_val_loss / len(validation_loader)\n",
        "      if avg_val_loss < best_val_loss:\n",
        "        best_val_loss = avg_val_loss\n",
        "        torch.save(network.state_dict(), best_model_path)\n",
        "\n",
        "      validation_losses.append(avg_val_loss)\n",
        "\n",
        "      print(f'h0.mlp Epoch [{epoch+1}/{num_epochs}], Train Loss: {avg_train_loss:.4f}, Validation Loss: {avg_val_loss:.4f}')\n",
        "\n",
        "print(f'h0.mlp, best validation loss {best_val_loss}')"
      ]
    },
    {
      "cell_type": "code",
      "execution_count": null,
      "metadata": {
        "colab": {
          "base_uri": "https://localhost:8080/",
          "height": 472
        },
        "id": "WEPoEBlNp4_2",
        "outputId": "c466a67a-57d2-4f09-b7c2-f70d989ba1d5"
      },
      "outputs": [
        {
          "data": {
            "image/png": "[encoded data removed]",
            "text/plain": [
              "<Figure size 640x480 with 1 Axes>"
            ]
          },
          "metadata": {},
          "output_type": "display_data"
        }
      ],
      "source": [
        "if PROBING_LAYER == \"h0.mlp\" and PROMPT == \"This has the same meaning as:\":\n",
        "  import matplotlib.pyplot as plt\n",
        "\n",
        "  plt.plot(train_losses, label='Training Loss')\n",
        "  plt.plot(validation_losses, label='Validation Loss')\n",
        "  plt.title('h0.mlp Loss Curves')\n",
        "  plt.xlabel('Epochs')\n",
        "  plt.ylabel('Loss')\n",
        "  plt.legend()\n",
        "  plt.show()"
      ]
    },
    {
      "cell_type": "code",
      "execution_count": null,
      "metadata": {
        "colab": {
          "base_uri": "https://localhost:8080/"
        },
        "id": "j3Qp8t4Btap7",
        "outputId": "48d88b02-9ac3-47f2-9573-85c78ef9d91e"
      },
      "outputs": [
        {
          "name": "stdout",
          "output_type": "stream",
          "text": [
            "tensor([2, 0, 1, 0], device='cuda:0')\n",
            "tensor([1, 2, 2, 2], device='cuda:0')\n",
            "tensor([2, 2, 2, 1], device='cuda:0')\n",
            "tensor([2, 1, 0, 2], device='cuda:0')\n",
            "tensor([1, 2, 2, 2], device='cuda:0')\n",
            "tensor([1, 2, 0, 2], device='cuda:0')\n",
            "tensor([0, 2, 0, 0], device='cuda:0')\n",
            "tensor([2, 2, 2, 0], device='cuda:0')\n",
            "tensor([1, 1, 0, 2], device='cuda:0')\n",
            "tensor([2, 1, 2, 0], device='cuda:0')\n",
            "tensor([2, 2, 2, 2], device='cuda:0')\n",
            "tensor([1, 2, 2, 2], device='cuda:0')\n",
            "tensor([2, 0, 2, 2], device='cuda:0')\n",
            "tensor([1, 2, 2, 1], device='cuda:0')\n",
            "tensor([2, 0, 2, 2], device='cuda:0')\n",
            "tensor([2, 2, 2, 0], device='cuda:0')\n",
            "tensor([2, 0, 0, 2], device='cuda:0')\n",
            "tensor([2, 1, 0, 2], device='cuda:0')\n",
            "tensor([1, 2, 1], device='cuda:0')\n",
            "h0.mlp Test Error Rate: 0.7200\n"
          ]
        }
      ],
      "source": [
        "if PROBING_LAYER == \"h0.mlp\" and PROMPT == \"This has the same meaning as:\":\n",
        "  network.eval()  # Set the network to evaluation mode\n",
        "  total_errors = 0\n",
        "  total_samples = 0\n",
        "  network.load_state_dict(torch.load(best_model_path))\n",
        "\n",
        "  with torch.no_grad():\n",
        "      for hidden_states, labels in test_loader:\n",
        "          input = hidden_states.to(device)\n",
        "          target = labels.to(device)\n",
        "          # Forward pass\n",
        "          outputs = network(input)\n",
        "\n",
        "          # Get predictions from the maximum value\n",
        "          _, predicted = torch.max(outputs.data, 1)\n",
        "          print(predicted)\n",
        "\n",
        "          total_errors += (predicted != target).sum().item()\n",
        "          total_samples += target.size(0)\n",
        "\n",
        "  error_rate = total_errors / total_samples\n",
        "\n",
        "  print(f'h0.mlp Test Error Rate: {error_rate:.4f}')"
      ]
    },
    {
      "cell_type": "markdown",
      "metadata": {
        "id": "fjLPd4I0r9k7"
      },
      "source": [
        "## Probe other layers"
      ]
    },
    {
      "cell_type": "markdown",
      "metadata": {
        "id": "t_Yf15_ppVqw"
      },
      "source": [
        "###Layer.h.05.mlp\n"
      ]
    },
    {
      "cell_type": "code",
      "execution_count": null,
      "metadata": {
        "colab": {
          "base_uri": "https://localhost:8080/"
        },
        "id": "V_E_7ua0pVq3",
        "outputId": "b61b7f4a-a8d4-4014-c9eb-100a2a7a803b"
      },
      "outputs": [
        {
          "name": "stdout",
          "output_type": "stream",
          "text": [
            "h5.mlp Epoch [1/50], Train Loss: 1.1084, Validation Loss: 1.1101\n",
            "h5.mlp Epoch [2/50], Train Loss: 1.0943, Validation Loss: 1.1029\n",
            "h5.mlp Epoch [3/50], Train Loss: 1.0815, Validation Loss: 1.0982\n",
            "h5.mlp Epoch [4/50], Train Loss: 1.0747, Validation Loss: 1.0940\n",
            "h5.mlp Epoch [5/50], Train Loss: 1.0691, Validation Loss: 1.0902\n",
            "h5.mlp Epoch [6/50], Train Loss: 1.0555, Validation Loss: 1.0905\n",
            "h5.mlp Epoch [7/50], Train Loss: 1.0488, Validation Loss: 1.0884\n",
            "h5.mlp Epoch [8/50], Train Loss: 1.0393, Validation Loss: 1.0855\n",
            "h5.mlp Epoch [9/50], Train Loss: 1.0281, Validation Loss: 1.0816\n",
            "h5.mlp Epoch [10/50], Train Loss: 1.0186, Validation Loss: 1.0809\n",
            "h5.mlp Epoch [11/50], Train Loss: 1.0100, Validation Loss: 1.0810\n",
            "h5.mlp Epoch [12/50], Train Loss: 1.0024, Validation Loss: 1.0823\n",
            "h5.mlp Epoch [13/50], Train Loss: 0.9954, Validation Loss: 1.0837\n",
            "h5.mlp Epoch [14/50], Train Loss: 0.9920, Validation Loss: 1.0840\n",
            "h5.mlp Epoch [15/50], Train Loss: 0.9879, Validation Loss: 1.0815\n",
            "h5.mlp Epoch [16/50], Train Loss: 0.9810, Validation Loss: 1.0798\n",
            "h5.mlp Epoch [17/50], Train Loss: 0.9719, Validation Loss: 1.0810\n",
            "h5.mlp Epoch [18/50], Train Loss: 0.9687, Validation Loss: 1.0827\n",
            "h5.mlp Epoch [19/50], Train Loss: 0.9665, Validation Loss: 1.0831\n",
            "h5.mlp Epoch [20/50], Train Loss: 0.9555, Validation Loss: 1.0839\n",
            "h5.mlp Epoch [21/50], Train Loss: 0.9527, Validation Loss: 1.0871\n",
            "h5.mlp Epoch [22/50], Train Loss: 0.9495, Validation Loss: 1.0872\n",
            "h5.mlp Epoch [23/50], Train Loss: 0.9431, Validation Loss: 1.0844\n",
            "h5.mlp Epoch [24/50], Train Loss: 0.9406, Validation Loss: 1.0821\n",
            "h5.mlp Epoch [25/50], Train Loss: 0.9346, Validation Loss: 1.0815\n",
            "h5.mlp Epoch [26/50], Train Loss: 0.9368, Validation Loss: 1.0815\n",
            "h5.mlp Epoch [27/50], Train Loss: 0.9305, Validation Loss: 1.0811\n",
            "h5.mlp Epoch [28/50], Train Loss: 0.9264, Validation Loss: 1.0805\n",
            "h5.mlp Epoch [29/50], Train Loss: 0.9237, Validation Loss: 1.0801\n",
            "h5.mlp Epoch [30/50], Train Loss: 0.9240, Validation Loss: 1.0810\n",
            "h5.mlp Epoch [31/50], Train Loss: 0.9188, Validation Loss: 1.0823\n",
            "h5.mlp Epoch [32/50], Train Loss: 0.9162, Validation Loss: 1.0805\n",
            "h5.mlp Epoch [33/50], Train Loss: 0.9112, Validation Loss: 1.0769\n",
            "h5.mlp Epoch [34/50], Train Loss: 0.9079, Validation Loss: 1.0726\n",
            "h5.mlp Epoch [35/50], Train Loss: 0.9080, Validation Loss: 1.0680\n",
            "h5.mlp Epoch [36/50], Train Loss: 0.9018, Validation Loss: 1.0640\n",
            "h5.mlp Epoch [37/50], Train Loss: 0.9052, Validation Loss: 1.0607\n",
            "h5.mlp Epoch [38/50], Train Loss: 0.8972, Validation Loss: 1.0596\n",
            "h5.mlp Epoch [39/50], Train Loss: 0.8947, Validation Loss: 1.0609\n",
            "h5.mlp Epoch [40/50], Train Loss: 0.8931, Validation Loss: 1.0627\n",
            "h5.mlp Epoch [41/50], Train Loss: 0.8855, Validation Loss: 1.0621\n",
            "h5.mlp Epoch [42/50], Train Loss: 0.8893, Validation Loss: 1.0601\n",
            "h5.mlp Epoch [43/50], Train Loss: 0.8830, Validation Loss: 1.0564\n",
            "h5.mlp Epoch [44/50], Train Loss: 0.8814, Validation Loss: 1.0536\n",
            "h5.mlp Epoch [45/50], Train Loss: 0.8774, Validation Loss: 1.0512\n",
            "h5.mlp Epoch [46/50], Train Loss: 0.8794, Validation Loss: 1.0494\n",
            "h5.mlp Epoch [47/50], Train Loss: 0.8714, Validation Loss: 1.0480\n",
            "h5.mlp Epoch [48/50], Train Loss: 0.8733, Validation Loss: 1.0477\n",
            "h5.mlp Epoch [49/50], Train Loss: 0.8706, Validation Loss: 1.0479\n",
            "h5.mlp Epoch [50/50], Train Loss: 0.8680, Validation Loss: 1.0497\n",
            "h5.mlp, best validation loss 1.0477424232583297\n"
          ]
        }
      ],
      "source": [
        "if PROBING_LAYER == \"h5.mlp\" and PROMPT == \"This has the same meaning as:\":\n",
        "  # Initialize the network, criterion, and optimizer as before\n",
        "\n",
        "  train_losses, validation_losses = [], []\n",
        "  best_val_loss = float('inf')\n",
        "  best_model_path = 'best_model.pth'\n",
        "  T = max_len\n",
        "  network = CombinedNetwork(dm, num_classes)\n",
        "  network.to(device)\n",
        "  criterion = nn.CrossEntropyLoss()\n",
        "  optimizer = Adam(network.parameters(), lr=0.00001)\n",
        "  for epoch in range(num_epochs):\n",
        "      network.train()\n",
        "      total_loss = 0\n",
        "      total_val_loss = 0\n",
        "      for hidden_states, labels in train_loader:\n",
        "          input = hidden_states.to(device)\n",
        "          target = labels.to(device)\n",
        "          outputs = network(input)\n",
        "          loss = criterion(outputs, target)\n",
        "          loss.backward()\n",
        "          optimizer.step()\n",
        "          total_loss += loss.item()\n",
        "\n",
        "      avg_train_loss = total_loss / len(train_loader)\n",
        "      train_losses.append(avg_train_loss)\n",
        "\n",
        "      network.eval()\n",
        "      total_loss = 0\n",
        "      with torch.no_grad():\n",
        "          for hidden_states, labels in validation_loader:\n",
        "              input = hidden_states.to(device)\n",
        "              target = labels.to(device)\n",
        "              outputs = network(input)\n",
        "              loss = criterion(outputs, target)\n",
        "              total_val_loss += loss.item()\n",
        "\n",
        "      avg_val_loss = total_val_loss / len(validation_loader)\n",
        "      if avg_val_loss < best_val_loss:\n",
        "        best_val_loss = avg_val_loss\n",
        "        torch.save(network.state_dict(), best_model_path)\n",
        "\n",
        "      validation_losses.append(avg_val_loss)\n",
        "\n",
        "      print(f'h5.mlp Epoch [{epoch+1}/{num_epochs}], Train Loss: {avg_train_loss:.4f}, Validation Loss: {avg_val_loss:.4f}')\n",
        "\n",
        "print(f'h5.mlp, best validation loss {best_val_loss}')"
      ]
    },
    {
      "cell_type": "code",
      "execution_count": null,
      "metadata": {
        "colab": {
          "base_uri": "https://localhost:8080/",
          "height": 472
        },
        "id": "EG0N7ktvpVq3",
        "outputId": "d46b469d-da72-489b-cdb9-4db80ec8d8be"
      },
      "outputs": [
        {
          "data": {
            "image/png": "[encoded data removed]",
            "text/plain": [
              "<Figure size 640x480 with 1 Axes>"
            ]
          },
          "metadata": {},
          "output_type": "display_data"
        }
      ],
      "source": [
        "if PROBING_LAYER == \"h5.mlp\" and PROMPT == \"This has the same meaning as:\":\n",
        "  import matplotlib.pyplot as plt\n",
        "\n",
        "  plt.plot(train_losses, label='Training Loss')\n",
        "  plt.plot(validation_losses, label='Validation Loss')\n",
        "  plt.title('h5.mlp Loss Curves')\n",
        "  plt.xlabel('Epochs')\n",
        "  plt.ylabel('Loss')\n",
        "  plt.legend()\n",
        "  plt.show()"
      ]
    },
    {
      "cell_type": "code",
      "execution_count": null,
      "metadata": {
        "colab": {
          "base_uri": "https://localhost:8080/"
        },
        "id": "0bB1shxBpVq3",
        "outputId": "9e8b1485-2423-4998-d62f-de414b80887d"
      },
      "outputs": [
        {
          "name": "stdout",
          "output_type": "stream",
          "text": [
            "tensor([1, 2, 1, 0], device='cuda:0')\n",
            "tensor([2, 1, 1, 1], device='cuda:0')\n",
            "tensor([0, 1, 1, 1], device='cuda:0')\n",
            "tensor([0, 1, 0, 1], device='cuda:0')\n",
            "tensor([1, 0, 0, 1], device='cuda:0')\n",
            "tensor([1, 1, 0, 1], device='cuda:0')\n",
            "tensor([1, 1, 0, 1], device='cuda:0')\n",
            "tensor([1, 1, 1, 1], device='cuda:0')\n",
            "tensor([1, 1, 1, 1], device='cuda:0')\n",
            "tensor([1, 2, 2, 1], device='cuda:0')\n",
            "tensor([1, 1, 1, 2], device='cuda:0')\n",
            "tensor([1, 1, 1, 0], device='cuda:0')\n",
            "tensor([0, 1, 0, 1], device='cuda:0')\n",
            "tensor([1, 2, 1, 1], device='cuda:0')\n",
            "tensor([1, 1, 1, 1], device='cuda:0')\n",
            "tensor([1, 1, 2, 0], device='cuda:0')\n",
            "tensor([1, 0, 2, 1], device='cuda:0')\n",
            "tensor([0, 2, 1, 1], device='cuda:0')\n",
            "tensor([2, 1, 1], device='cuda:0')\n",
            "h5.mlp Test Error Rate: 0.6000\n"
          ]
        }
      ],
      "source": [
        "if PROBING_LAYER == \"h5.mlp\" and PROMPT == \"This has the same meaning as:\":\n",
        "  network.eval()  # Set the network to evaluation mode\n",
        "  total_errors = 0\n",
        "  total_samples = 0\n",
        "  network.load_state_dict(torch.load(best_model_path))\n",
        "\n",
        "  with torch.no_grad():\n",
        "      for hidden_states, labels in test_loader:\n",
        "          input = hidden_states.to(device)\n",
        "          target = labels.to(device)\n",
        "          # Forward pass\n",
        "          outputs = network(input)\n",
        "\n",
        "          # Get predictions from the maximum value\n",
        "          _, predicted = torch.max(outputs.data, 1)\n",
        "          print(predicted)\n",
        "\n",
        "          total_errors += (predicted != target).sum().item()\n",
        "          total_samples += target.size(0)\n",
        "\n",
        "  error_rate = total_errors / total_samples\n",
        "\n",
        "  print(f'h5.mlp Test Error Rate: {error_rate:.4f}')"
      ]
    },
    {
      "cell_type": "markdown",
      "metadata": {
        "id": "vsrJu1BOuUx9"
      },
      "source": [
        "### Layer h.09.mlp"
      ]
    },
    {
      "cell_type": "code",
      "execution_count": null,
      "metadata": {
        "colab": {
          "base_uri": "https://localhost:8080/"
        },
        "id": "GvUO0D_AuyST",
        "outputId": "11f12bdc-ae4d-4e5f-b37a-538e53d130e2"
      },
      "outputs": [
        {
          "name": "stdout",
          "output_type": "stream",
          "text": [
            "h9.mlp Epoch [1/50], Train Loss: 1.1003, Validation Loss: 1.0950\n",
            "h9.mlp Epoch [2/50], Train Loss: 1.1012, Validation Loss: 1.0968\n",
            "h9.mlp Epoch [3/50], Train Loss: 1.0894, Validation Loss: 1.0968\n",
            "h9.mlp Epoch [4/50], Train Loss: 1.0905, Validation Loss: 1.0960\n",
            "h9.mlp Epoch [5/50], Train Loss: 1.0866, Validation Loss: 1.0947\n",
            "h9.mlp Epoch [6/50], Train Loss: 1.0827, Validation Loss: 1.0926\n",
            "h9.mlp Epoch [7/50], Train Loss: 1.0765, Validation Loss: 1.0893\n",
            "h9.mlp Epoch [8/50], Train Loss: 1.0787, Validation Loss: 1.0866\n",
            "h9.mlp Epoch [9/50], Train Loss: 1.0728, Validation Loss: 1.0845\n",
            "h9.mlp Epoch [10/50], Train Loss: 1.0707, Validation Loss: 1.0832\n",
            "h9.mlp Epoch [11/50], Train Loss: 1.0701, Validation Loss: 1.0826\n",
            "h9.mlp Epoch [12/50], Train Loss: 1.0653, Validation Loss: 1.0819\n",
            "h9.mlp Epoch [13/50], Train Loss: 1.0652, Validation Loss: 1.0816\n",
            "h9.mlp Epoch [14/50], Train Loss: 1.0651, Validation Loss: 1.0810\n",
            "h9.mlp Epoch [15/50], Train Loss: 1.0596, Validation Loss: 1.0813\n",
            "h9.mlp Epoch [16/50], Train Loss: 1.0626, Validation Loss: 1.0812\n",
            "h9.mlp Epoch [17/50], Train Loss: 1.0586, Validation Loss: 1.0815\n",
            "h9.mlp Epoch [18/50], Train Loss: 1.0565, Validation Loss: 1.0818\n",
            "h9.mlp Epoch [19/50], Train Loss: 1.0548, Validation Loss: 1.0822\n",
            "h9.mlp Epoch [20/50], Train Loss: 1.0566, Validation Loss: 1.0829\n",
            "h9.mlp Epoch [21/50], Train Loss: 1.0530, Validation Loss: 1.0835\n",
            "h9.mlp Epoch [22/50], Train Loss: 1.0554, Validation Loss: 1.0846\n",
            "h9.mlp Epoch [23/50], Train Loss: 1.0558, Validation Loss: 1.0859\n",
            "h9.mlp Epoch [24/50], Train Loss: 1.0553, Validation Loss: 1.0871\n",
            "h9.mlp Epoch [25/50], Train Loss: 1.0537, Validation Loss: 1.0872\n",
            "h9.mlp Epoch [26/50], Train Loss: 1.0526, Validation Loss: 1.0872\n",
            "h9.mlp Epoch [27/50], Train Loss: 1.0517, Validation Loss: 1.0872\n",
            "h9.mlp Epoch [28/50], Train Loss: 1.0512, Validation Loss: 1.0872\n",
            "h9.mlp Epoch [29/50], Train Loss: 1.0481, Validation Loss: 1.0873\n",
            "h9.mlp Epoch [30/50], Train Loss: 1.0513, Validation Loss: 1.0874\n",
            "h9.mlp Epoch [31/50], Train Loss: 1.0522, Validation Loss: 1.0877\n",
            "h9.mlp Epoch [32/50], Train Loss: 1.0506, Validation Loss: 1.0878\n",
            "h9.mlp Epoch [33/50], Train Loss: 1.0485, Validation Loss: 1.0876\n",
            "h9.mlp Epoch [34/50], Train Loss: 1.0504, Validation Loss: 1.0875\n",
            "h9.mlp Epoch [35/50], Train Loss: 1.0492, Validation Loss: 1.0874\n",
            "h9.mlp Epoch [36/50], Train Loss: 1.0498, Validation Loss: 1.0874\n",
            "h9.mlp Epoch [37/50], Train Loss: 1.0503, Validation Loss: 1.0877\n",
            "h9.mlp Epoch [38/50], Train Loss: 1.0527, Validation Loss: 1.0880\n",
            "h9.mlp Epoch [39/50], Train Loss: 1.0504, Validation Loss: 1.0884\n",
            "h9.mlp Epoch [40/50], Train Loss: 1.0503, Validation Loss: 1.0888\n",
            "h9.mlp Epoch [41/50], Train Loss: 1.0492, Validation Loss: 1.0890\n",
            "h9.mlp Epoch [42/50], Train Loss: 1.0492, Validation Loss: 1.0902\n",
            "h9.mlp Epoch [43/50], Train Loss: 1.0484, Validation Loss: 1.0922\n",
            "h9.mlp Epoch [44/50], Train Loss: 1.0480, Validation Loss: 1.0936\n",
            "h9.mlp Epoch [45/50], Train Loss: 1.0441, Validation Loss: 1.0942\n",
            "h9.mlp Epoch [46/50], Train Loss: 1.0434, Validation Loss: 1.0964\n",
            "h9.mlp Epoch [47/50], Train Loss: 1.0407, Validation Loss: 1.0968\n",
            "h9.mlp Epoch [48/50], Train Loss: 1.0421, Validation Loss: 1.0992\n",
            "h9.mlp Epoch [49/50], Train Loss: 1.0393, Validation Loss: 1.1017\n",
            "h9.mlp Epoch [50/50], Train Loss: 1.0416, Validation Loss: 1.1038\n",
            "h9.mlp, best validation loss 1.0810245808802152\n"
          ]
        }
      ],
      "source": [
        "if PROBING_LAYER == \"h9.mlp\" and PROMPT == \"This has the same meaning as:\":\n",
        " # Initialize the network, criterion, and optimizer as before\n",
        "\n",
        "  train_losses, validation_losses = [], []\n",
        "  best_val_loss = float('inf')\n",
        "  best_model_path = 'best_model.pth'\n",
        "  T = max_len\n",
        "  network = CombinedNetwork(dm, num_classes)\n",
        "  network.to(device)\n",
        "  criterion = nn.CrossEntropyLoss()\n",
        "  optimizer = Adam(network.parameters(), lr=0.00001)\n",
        "  for epoch in range(num_epochs):\n",
        "      network.train()\n",
        "      total_loss = 0\n",
        "      total_val_loss = 0\n",
        "      for hidden_states, labels in train_loader:\n",
        "          input = hidden_states.to(device)\n",
        "          target = labels.to(device)\n",
        "          outputs = network(input)\n",
        "          loss = criterion(outputs, target)\n",
        "          loss.backward()\n",
        "          optimizer.step()\n",
        "          total_loss += loss.item()\n",
        "\n",
        "      avg_train_loss = total_loss / len(train_loader)\n",
        "      train_losses.append(avg_train_loss)\n",
        "\n",
        "      network.eval()\n",
        "      total_loss = 0\n",
        "      with torch.no_grad():\n",
        "          for hidden_states, labels in validation_loader:\n",
        "              input = hidden_states.to(device)\n",
        "              target = labels.to(device)\n",
        "              outputs = network(input)\n",
        "              loss = criterion(outputs, target)\n",
        "              total_val_loss += loss.item()\n",
        "\n",
        "      avg_val_loss = total_val_loss / len(validation_loader)\n",
        "      if avg_val_loss < best_val_loss:\n",
        "        best_val_loss = avg_val_loss\n",
        "        torch.save(network.state_dict(), best_model_path)\n",
        "\n",
        "      validation_losses.append(avg_val_loss)\n",
        "\n",
        "      print(f'h9.mlp Epoch [{epoch+1}/{num_epochs}], Train Loss: {avg_train_loss:.4f}, Validation Loss: {avg_val_loss:.4f}')\n",
        "\n",
        "print(f'h9.mlp, best validation loss {best_val_loss}')"
      ]
    },
    {
      "cell_type": "code",
      "execution_count": null,
      "metadata": {
        "colab": {
          "base_uri": "https://localhost:8080/",
          "height": 472
        },
        "id": "gMDlXAWwuzbp",
        "outputId": "06dd0a59-cff6-4be3-a345-c9ba933a7b30"
      },
      "outputs": [
        {
          "data": {
            "image/png": "[encoded data removed]",
            "text/plain": [
              "<Figure size 640x480 with 1 Axes>"
            ]
          },
          "metadata": {},
          "output_type": "display_data"
        }
      ],
      "source": [
        "if PROBING_LAYER == \"h9.mlp\" and PROMPT == \"This has the same meaning as:\":\n",
        "  import matplotlib.pyplot as plt\n",
        "  plt.plot(train_losses, label='Training Loss')\n",
        "  plt.plot(validation_losses, label='Validation Loss')\n",
        "  plt.title('Loss Curves')\n",
        "  plt.xlabel('Epochs')\n",
        "  plt.ylabel('Loss')\n",
        "  plt.legend()\n",
        "  plt.show()"
      ]
    },
    {
      "cell_type": "code",
      "execution_count": null,
      "metadata": {
        "colab": {
          "base_uri": "https://localhost:8080/"
        },
        "id": "NzxHyaQKu0UB",
        "outputId": "050df80e-f77d-4e6d-9b83-bdcbf7f83f86"
      },
      "outputs": [
        {
          "name": "stdout",
          "output_type": "stream",
          "text": [
            "tensor([0, 0, 0, 0], device='cuda:0')\n",
            "tensor([0, 0, 1, 0], device='cuda:0')\n",
            "tensor([1, 0, 0, 0], device='cuda:0')\n",
            "tensor([0, 0, 0, 0], device='cuda:0')\n",
            "tensor([0, 0, 0, 0], device='cuda:0')\n",
            "tensor([0, 0, 0, 0], device='cuda:0')\n",
            "tensor([0, 0, 0, 1], device='cuda:0')\n",
            "tensor([0, 1, 0, 0], device='cuda:0')\n",
            "tensor([0, 1, 0, 0], device='cuda:0')\n",
            "tensor([0, 0, 1, 0], device='cuda:0')\n",
            "tensor([0, 0, 0, 1], device='cuda:0')\n",
            "tensor([0, 0, 0, 0], device='cuda:0')\n",
            "tensor([0, 0, 0, 0], device='cuda:0')\n",
            "tensor([0, 0, 0, 0], device='cuda:0')\n",
            "tensor([0, 0, 0, 0], device='cuda:0')\n",
            "tensor([0, 0, 0, 1], device='cuda:0')\n",
            "tensor([0, 0, 0, 0], device='cuda:0')\n",
            "tensor([0, 0, 0, 1], device='cuda:0')\n",
            "tensor([1, 0, 0], device='cuda:0')\n",
            "Test Error Rate: 0.6267\n"
          ]
        }
      ],
      "source": [
        "if PROBING_LAYER == \"h9.mlp\" and PROMPT == \"This has the same meaning as:\":\n",
        "  network.eval()  # Set the network to evaluation mode\n",
        "  total_errors = 0\n",
        "  total_samples = 0\n",
        "  network.load_state_dict(torch.load(best_model_path))\n",
        "\n",
        "  with torch.no_grad():\n",
        "      for hidden_states, labels in test_loader:\n",
        "          input = hidden_states.to(device)\n",
        "          target = labels.to(device)\n",
        "          # Forward pass\n",
        "          outputs = network(input)\n",
        "\n",
        "          # Get predictions from the maximum value\n",
        "          _, predicted = torch.max(outputs.data, 1)\n",
        "          print(predicted)\n",
        "\n",
        "          total_errors += (predicted != target).sum().item()\n",
        "          total_samples += target.size(0)\n",
        "\n",
        "  error_rate = total_errors / total_samples\n",
        "\n",
        "  print(f'h9.mlp Test Error Rate: {error_rate:.4f}')"
      ]
    },
    {
      "cell_type": "markdown",
      "metadata": {
        "id": "-cDUYqKfCw3E"
      },
      "source": [
        "## Trying difference prompts and compare performance\n"
      ]
    },
    {
      "cell_type": "markdown",
      "metadata": {
        "id": "xVElwOUiD6aY"
      },
      "source": [
        "### Layer.h.0.mlp"
      ]
    },
    {
      "cell_type": "code",
      "execution_count": null,
      "metadata": {
        "colab": {
          "base_uri": "https://localhost:8080/"
        },
        "id": "U1FhmpAgD6ae",
        "outputId": "139c2cc9-2dd9-4522-a1de-a3f37a857e87"
      },
      "outputs": [
        {
          "name": "stdout",
          "output_type": "stream",
          "text": [
            "h0.mlp Epoch [1/50], Train Loss: 1.1139, Validation Loss: 1.1107\n",
            "h0.mlp Epoch [2/50], Train Loss: 1.1014, Validation Loss: 1.1054\n",
            "h0.mlp Epoch [3/50], Train Loss: 1.0898, Validation Loss: 1.1051\n",
            "h0.mlp Epoch [4/50], Train Loss: 1.0819, Validation Loss: 1.1025\n",
            "h0.mlp Epoch [5/50], Train Loss: 1.0679, Validation Loss: 1.1014\n",
            "h0.mlp Epoch [6/50], Train Loss: 1.0571, Validation Loss: 1.1029\n",
            "h0.mlp Epoch [7/50], Train Loss: 1.0451, Validation Loss: 1.1027\n",
            "h0.mlp Epoch [8/50], Train Loss: 1.0366, Validation Loss: 1.1015\n",
            "h0.mlp Epoch [9/50], Train Loss: 1.0268, Validation Loss: 1.1003\n",
            "h0.mlp Epoch [10/50], Train Loss: 1.0228, Validation Loss: 1.0987\n",
            "h0.mlp Epoch [11/50], Train Loss: 1.0094, Validation Loss: 1.0963\n",
            "h0.mlp Epoch [12/50], Train Loss: 1.0034, Validation Loss: 1.0939\n",
            "h0.mlp Epoch [13/50], Train Loss: 0.9948, Validation Loss: 1.0925\n",
            "h0.mlp Epoch [14/50], Train Loss: 0.9857, Validation Loss: 1.0921\n",
            "h0.mlp Epoch [15/50], Train Loss: 0.9771, Validation Loss: 1.0916\n",
            "h0.mlp Epoch [16/50], Train Loss: 0.9750, Validation Loss: 1.0920\n",
            "h0.mlp Epoch [17/50], Train Loss: 0.9629, Validation Loss: 1.0943\n",
            "h0.mlp Epoch [18/50], Train Loss: 0.9561, Validation Loss: 1.0962\n",
            "h0.mlp Epoch [19/50], Train Loss: 0.9487, Validation Loss: 1.0983\n",
            "h0.mlp Epoch [20/50], Train Loss: 0.9388, Validation Loss: 1.0991\n",
            "h0.mlp Epoch [21/50], Train Loss: 0.9323, Validation Loss: 1.1001\n",
            "h0.mlp Epoch [22/50], Train Loss: 0.9294, Validation Loss: 1.1002\n",
            "h0.mlp Epoch [23/50], Train Loss: 0.9277, Validation Loss: 1.1001\n",
            "h0.mlp Epoch [24/50], Train Loss: 0.9178, Validation Loss: 1.0999\n",
            "h0.mlp Epoch [25/50], Train Loss: 0.9105, Validation Loss: 1.1001\n",
            "h0.mlp Epoch [26/50], Train Loss: 0.9055, Validation Loss: 1.1006\n",
            "h0.mlp Epoch [27/50], Train Loss: 0.9012, Validation Loss: 1.1011\n",
            "h0.mlp Epoch [28/50], Train Loss: 0.8969, Validation Loss: 1.1008\n",
            "h0.mlp Epoch [29/50], Train Loss: 0.8920, Validation Loss: 1.1007\n",
            "h0.mlp Epoch [30/50], Train Loss: 0.8869, Validation Loss: 1.0996\n",
            "h0.mlp Epoch [31/50], Train Loss: 0.8825, Validation Loss: 1.0989\n",
            "h0.mlp Epoch [32/50], Train Loss: 0.8736, Validation Loss: 1.0988\n",
            "h0.mlp Epoch [33/50], Train Loss: 0.8763, Validation Loss: 1.0989\n",
            "h0.mlp Epoch [34/50], Train Loss: 0.8743, Validation Loss: 1.0995\n",
            "h0.mlp Epoch [35/50], Train Loss: 0.8637, Validation Loss: 1.1008\n",
            "h0.mlp Epoch [36/50], Train Loss: 0.8631, Validation Loss: 1.1014\n",
            "h0.mlp Epoch [37/50], Train Loss: 0.8591, Validation Loss: 1.1024\n",
            "h0.mlp Epoch [38/50], Train Loss: 0.8540, Validation Loss: 1.1012\n",
            "h0.mlp Epoch [39/50], Train Loss: 0.8525, Validation Loss: 1.1005\n",
            "h0.mlp Epoch [40/50], Train Loss: 0.8506, Validation Loss: 1.1011\n",
            "h0.mlp Epoch [41/50], Train Loss: 0.8452, Validation Loss: 1.1020\n",
            "h0.mlp Epoch [42/50], Train Loss: 0.8418, Validation Loss: 1.1037\n",
            "h0.mlp Epoch [43/50], Train Loss: 0.8385, Validation Loss: 1.1061\n",
            "h0.mlp Epoch [44/50], Train Loss: 0.8331, Validation Loss: 1.1070\n",
            "h0.mlp Epoch [45/50], Train Loss: 0.8259, Validation Loss: 1.1080\n",
            "h0.mlp Epoch [46/50], Train Loss: 0.8263, Validation Loss: 1.1087\n",
            "h0.mlp Epoch [47/50], Train Loss: 0.8264, Validation Loss: 1.1096\n",
            "h0.mlp Epoch [48/50], Train Loss: 0.8234, Validation Loss: 1.1096\n",
            "h0.mlp Epoch [49/50], Train Loss: 0.8219, Validation Loss: 1.1102\n",
            "h0.mlp Epoch [50/50], Train Loss: 0.8204, Validation Loss: 1.1111\n",
            "h0.mlp, best validation loss 1.0915606492444088\n"
          ]
        }
      ],
      "source": [
        "if PROBING_LAYER == \"h0.mlp\" and PROMPT == \"This conveys a similar message as this:\":\n",
        "  # Initialize the network, criterion, and optimizer as before\n",
        "\n",
        "  train_losses, validation_losses = [], []\n",
        "  best_val_loss = float('inf')\n",
        "  best_model_path = 'best_model.pth'\n",
        "  T = max_len\n",
        "  network = CombinedNetwork(dm, num_classes)\n",
        "  network.to(device)\n",
        "  criterion = nn.CrossEntropyLoss()\n",
        "  optimizer = Adam(network.parameters(), lr=0.00001)\n",
        "  for epoch in range(num_epochs):\n",
        "      network.train()\n",
        "      total_loss = 0\n",
        "      total_val_loss = 0\n",
        "      for hidden_states, labels in train_loader:\n",
        "          input = hidden_states.to(device)\n",
        "          target = labels.to(device)\n",
        "          outputs = network(input)\n",
        "          loss = criterion(outputs, target)\n",
        "          loss.backward()\n",
        "          optimizer.step()\n",
        "          total_loss += loss.item()\n",
        "\n",
        "      avg_train_loss = total_loss / len(train_loader)\n",
        "      train_losses.append(avg_train_loss)\n",
        "\n",
        "      network.eval()\n",
        "      total_loss = 0\n",
        "      with torch.no_grad():\n",
        "          for hidden_states, labels in validation_loader:\n",
        "              input = hidden_states.to(device)\n",
        "              target = labels.to(device)\n",
        "              outputs = network(input)\n",
        "              loss = criterion(outputs, target)\n",
        "              total_val_loss += loss.item()\n",
        "\n",
        "      avg_val_loss = total_val_loss / len(validation_loader)\n",
        "      if avg_val_loss < best_val_loss:\n",
        "        best_val_loss = avg_val_loss\n",
        "        torch.save(network.state_dict(), best_model_path)\n",
        "\n",
        "      validation_losses.append(avg_val_loss)\n",
        "\n",
        "      print(f'h0.mlp Epoch [{epoch+1}/{num_epochs}], Train Loss: {avg_train_loss:.4f}, Validation Loss: {avg_val_loss:.4f}')\n",
        "\n",
        "print(f'h0.mlp, best validation loss {best_val_loss}')"
      ]
    },
    {
      "cell_type": "code",
      "execution_count": null,
      "metadata": {
        "colab": {
          "base_uri": "https://localhost:8080/",
          "height": 472
        },
        "id": "fYRg0KtbD6ae",
        "outputId": "766dd5c4-80fb-4ce5-d756-c7caec2a93e4"
      },
      "outputs": [
        {
          "data": {
            "image/png": "[encoded data removed]",
            "text/plain": [
              "<Figure size 640x480 with 1 Axes>"
            ]
          },
          "metadata": {},
          "output_type": "display_data"
        }
      ],
      "source": [
        "if PROBING_LAYER == \"h0.mlp\" and PROMPT == \"This conveys a similar message as this:\":\n",
        "  import matplotlib.pyplot as plt\n",
        "\n",
        "  plt.plot(train_losses, label='Training Loss')\n",
        "  plt.plot(validation_losses, label='Validation Loss')\n",
        "  plt.title('h0.mlp Loss Curves')\n",
        "  plt.xlabel('Epochs')\n",
        "  plt.ylabel('Loss')\n",
        "  plt.legend()\n",
        "  plt.show()"
      ]
    },
    {
      "cell_type": "code",
      "execution_count": null,
      "metadata": {
        "colab": {
          "base_uri": "https://localhost:8080/"
        },
        "id": "WEdSEvsiD6ae",
        "outputId": "d06838c7-246a-4565-8ce2-c9d85ae25864"
      },
      "outputs": [
        {
          "name": "stdout",
          "output_type": "stream",
          "text": [
            "tensor([1, 2, 1, 0], device='cuda:0')\n",
            "tensor([2, 2, 1, 0], device='cuda:0')\n",
            "tensor([1, 1, 2, 2], device='cuda:0')\n",
            "tensor([0, 1, 0, 2], device='cuda:0')\n",
            "tensor([1, 2, 0, 1], device='cuda:0')\n",
            "tensor([1, 2, 1, 2], device='cuda:0')\n",
            "tensor([0, 1, 1, 1], device='cuda:0')\n",
            "tensor([2, 2, 1, 1], device='cuda:0')\n",
            "tensor([1, 2, 0, 1], device='cuda:0')\n",
            "tensor([0, 2, 2, 1], device='cuda:0')\n",
            "tensor([2, 2, 1, 0], device='cuda:0')\n",
            "tensor([2, 2, 2, 0], device='cuda:0')\n",
            "tensor([1, 2, 1, 0], device='cuda:0')\n",
            "tensor([2, 1, 2, 0], device='cuda:0')\n",
            "tensor([0, 1, 2, 1], device='cuda:0')\n",
            "tensor([1, 1, 2, 2], device='cuda:0')\n",
            "tensor([2, 0, 2, 1], device='cuda:0')\n",
            "tensor([1, 2, 1, 1], device='cuda:0')\n",
            "tensor([2, 1, 2], device='cuda:0')\n",
            "h0.mlp Test Error Rate: 0.7467\n"
          ]
        }
      ],
      "source": [
        "if PROBING_LAYER == \"h0.mlp\" and PROMPT == \"This conveys a similar message as this:\":\n",
        "  network.eval()  # Set the network to evaluation mode\n",
        "  total_errors = 0\n",
        "  total_samples = 0\n",
        "  network.load_state_dict(torch.load(best_model_path))\n",
        "\n",
        "  with torch.no_grad():\n",
        "      for hidden_states, labels in test_loader:\n",
        "          input = hidden_states.to(device)\n",
        "          target = labels.to(device)\n",
        "          # Forward pass\n",
        "          outputs = network(input)\n",
        "\n",
        "          # Get predictions from the maximum value\n",
        "          _, predicted = torch.max(outputs.data, 1)\n",
        "          print(predicted)\n",
        "\n",
        "          total_errors += (predicted != target).sum().item()\n",
        "          total_samples += target.size(0)\n",
        "\n",
        "  error_rate = total_errors / total_samples\n",
        "\n",
        "  print(f'h0.mlp Test Error Rate: {error_rate:.4f}')"
      ]
    },
    {
      "cell_type": "markdown",
      "metadata": {
        "id": "AxuWWkIrDpJI"
      },
      "source": [
        "###Layer.h.05.mlp\n"
      ]
    },
    {
      "cell_type": "code",
      "execution_count": null,
      "metadata": {
        "colab": {
          "base_uri": "https://localhost:8080/"
        },
        "id": "xo9vEB6UDpJO",
        "outputId": "8faf1511-44a3-4bcb-8916-67d5bb7d8d73"
      },
      "outputs": [
        {
          "name": "stdout",
          "output_type": "stream",
          "text": [
            "h5.mlp Epoch [1/50], Train Loss: 1.1094, Validation Loss: 1.1315\n",
            "h5.mlp Epoch [2/50], Train Loss: 1.1014, Validation Loss: 1.1255\n",
            "h5.mlp Epoch [3/50], Train Loss: 1.0859, Validation Loss: 1.1202\n",
            "h5.mlp Epoch [4/50], Train Loss: 1.0777, Validation Loss: 1.1175\n",
            "h5.mlp Epoch [5/50], Train Loss: 1.0619, Validation Loss: 1.1165\n",
            "h5.mlp Epoch [6/50], Train Loss: 1.0552, Validation Loss: 1.1164\n",
            "h5.mlp Epoch [7/50], Train Loss: 1.0474, Validation Loss: 1.1164\n",
            "h5.mlp Epoch [8/50], Train Loss: 1.0383, Validation Loss: 1.1177\n",
            "h5.mlp Epoch [9/50], Train Loss: 1.0329, Validation Loss: 1.1209\n",
            "h5.mlp Epoch [10/50], Train Loss: 1.0232, Validation Loss: 1.1225\n",
            "h5.mlp Epoch [11/50], Train Loss: 1.0126, Validation Loss: 1.1232\n",
            "h5.mlp Epoch [12/50], Train Loss: 1.0135, Validation Loss: 1.1241\n",
            "h5.mlp Epoch [13/50], Train Loss: 0.9993, Validation Loss: 1.1247\n",
            "h5.mlp Epoch [14/50], Train Loss: 1.0017, Validation Loss: 1.1243\n",
            "h5.mlp Epoch [15/50], Train Loss: 0.9885, Validation Loss: 1.1243\n",
            "h5.mlp Epoch [16/50], Train Loss: 0.9801, Validation Loss: 1.1230\n",
            "h5.mlp Epoch [17/50], Train Loss: 0.9765, Validation Loss: 1.1221\n",
            "h5.mlp Epoch [18/50], Train Loss: 0.9683, Validation Loss: 1.1221\n",
            "h5.mlp Epoch [19/50], Train Loss: 0.9601, Validation Loss: 1.1217\n",
            "h5.mlp Epoch [20/50], Train Loss: 0.9548, Validation Loss: 1.1210\n",
            "h5.mlp Epoch [21/50], Train Loss: 0.9536, Validation Loss: 1.1200\n",
            "h5.mlp Epoch [22/50], Train Loss: 0.9470, Validation Loss: 1.1196\n",
            "h5.mlp Epoch [23/50], Train Loss: 0.9397, Validation Loss: 1.1188\n",
            "h5.mlp Epoch [24/50], Train Loss: 0.9313, Validation Loss: 1.1180\n",
            "h5.mlp Epoch [25/50], Train Loss: 0.9243, Validation Loss: 1.1185\n",
            "h5.mlp Epoch [26/50], Train Loss: 0.9273, Validation Loss: 1.1185\n",
            "h5.mlp Epoch [27/50], Train Loss: 0.9217, Validation Loss: 1.1181\n",
            "h5.mlp Epoch [28/50], Train Loss: 0.9182, Validation Loss: 1.1177\n",
            "h5.mlp Epoch [29/50], Train Loss: 0.9127, Validation Loss: 1.1165\n",
            "h5.mlp Epoch [30/50], Train Loss: 0.9077, Validation Loss: 1.1153\n",
            "h5.mlp Epoch [31/50], Train Loss: 0.8990, Validation Loss: 1.1142\n",
            "h5.mlp Epoch [32/50], Train Loss: 0.9014, Validation Loss: 1.1134\n",
            "h5.mlp Epoch [33/50], Train Loss: 0.8956, Validation Loss: 1.1120\n",
            "h5.mlp Epoch [34/50], Train Loss: 0.8948, Validation Loss: 1.1113\n",
            "h5.mlp Epoch [35/50], Train Loss: 0.8901, Validation Loss: 1.1110\n",
            "h5.mlp Epoch [36/50], Train Loss: 0.8922, Validation Loss: 1.1098\n",
            "h5.mlp Epoch [37/50], Train Loss: 0.8899, Validation Loss: 1.1095\n",
            "h5.mlp Epoch [38/50], Train Loss: 0.8791, Validation Loss: 1.1091\n",
            "h5.mlp Epoch [39/50], Train Loss: 0.8751, Validation Loss: 1.1081\n",
            "h5.mlp Epoch [40/50], Train Loss: 0.8695, Validation Loss: 1.1072\n",
            "h5.mlp Epoch [41/50], Train Loss: 0.8707, Validation Loss: 1.1076\n",
            "h5.mlp Epoch [42/50], Train Loss: 0.8663, Validation Loss: 1.1091\n",
            "h5.mlp Epoch [43/50], Train Loss: 0.8687, Validation Loss: 1.1085\n",
            "h5.mlp Epoch [44/50], Train Loss: 0.8668, Validation Loss: 1.1083\n",
            "h5.mlp Epoch [45/50], Train Loss: 0.8640, Validation Loss: 1.1099\n",
            "h5.mlp Epoch [46/50], Train Loss: 0.8593, Validation Loss: 1.1086\n",
            "h5.mlp Epoch [47/50], Train Loss: 0.8613, Validation Loss: 1.1063\n",
            "h5.mlp Epoch [48/50], Train Loss: 0.8507, Validation Loss: 1.1056\n",
            "h5.mlp Epoch [49/50], Train Loss: 0.8565, Validation Loss: 1.1053\n",
            "h5.mlp Epoch [50/50], Train Loss: 0.8564, Validation Loss: 1.1055\n",
            "h5.mlp, best validation loss 1.1052875330573635\n"
          ]
        }
      ],
      "source": [
        "if PROBING_LAYER == \"h5.mlp\" and PROMPT == \"This conveys a similar message as this:\":\n",
        "  # Initialize the network, criterion, and optimizer as before\n",
        "\n",
        "  train_losses, validation_losses = [], []\n",
        "  best_val_loss = float('inf')\n",
        "  best_model_path = 'best_model.pth'\n",
        "  T = max_len\n",
        "  network = CombinedNetwork(dm, num_classes)\n",
        "  network.to(device)\n",
        "  criterion = nn.CrossEntropyLoss()\n",
        "  optimizer = Adam(network.parameters(), lr=0.00001)\n",
        "  for epoch in range(num_epochs):\n",
        "      network.train()\n",
        "      total_loss = 0\n",
        "      total_val_loss = 0\n",
        "      for hidden_states, labels in train_loader:\n",
        "          input = hidden_states.to(device)\n",
        "          target = labels.to(device)\n",
        "          outputs = network(input)\n",
        "          loss = criterion(outputs, target)\n",
        "          loss.backward()\n",
        "          optimizer.step()\n",
        "          total_loss += loss.item()\n",
        "\n",
        "      avg_train_loss = total_loss / len(train_loader)\n",
        "      train_losses.append(avg_train_loss)\n",
        "\n",
        "      network.eval()\n",
        "      total_loss = 0\n",
        "      with torch.no_grad():\n",
        "          for hidden_states, labels in validation_loader:\n",
        "              input = hidden_states.to(device)\n",
        "              target = labels.to(device)\n",
        "              outputs = network(input)\n",
        "              loss = criterion(outputs, target)\n",
        "              total_val_loss += loss.item()\n",
        "\n",
        "      avg_val_loss = total_val_loss / len(validation_loader)\n",
        "      if avg_val_loss < best_val_loss:\n",
        "        best_val_loss = avg_val_loss\n",
        "        torch.save(network.state_dict(), best_model_path)\n",
        "\n",
        "      validation_losses.append(avg_val_loss)\n",
        "\n",
        "      print(f'h5.mlp Epoch [{epoch+1}/{num_epochs}], Train Loss: {avg_train_loss:.4f}, Validation Loss: {avg_val_loss:.4f}')\n",
        "\n",
        "print(f'h5.mlp, best validation loss {best_val_loss}')"
      ]
    },
    {
      "cell_type": "code",
      "execution_count": null,
      "metadata": {
        "colab": {
          "base_uri": "https://localhost:8080/",
          "height": 472
        },
        "id": "ZaCPWvL4DpJP",
        "outputId": "6212a7f6-d9b4-478c-bfe1-7698352cc54f"
      },
      "outputs": [
        {
          "data": {
            "image/png": "[encoded data removed]",
            "text/plain": [
              "<Figure size 640x480 with 1 Axes>"
            ]
          },
          "metadata": {},
          "output_type": "display_data"
        }
      ],
      "source": [
        "if PROBING_LAYER == \"h5.mlp\" and PROMPT == \"This conveys a similar message as this:\":\n",
        "  import matplotlib.pyplot as plt\n",
        "\n",
        "  plt.plot(train_losses, label='Training Loss')\n",
        "  plt.plot(validation_losses, label='Validation Loss')\n",
        "  plt.title('h5.mlp Loss Curves')\n",
        "  plt.xlabel('Epochs')\n",
        "  plt.ylabel('Loss')\n",
        "  plt.legend()\n",
        "  plt.show()"
      ]
    },
    {
      "cell_type": "code",
      "execution_count": null,
      "metadata": {
        "colab": {
          "base_uri": "https://localhost:8080/"
        },
        "id": "JVkh8pwXDpJP",
        "outputId": "2a9f4332-4e39-4f91-82e5-d942d160e4fb"
      },
      "outputs": [
        {
          "name": "stdout",
          "output_type": "stream",
          "text": [
            "tensor([1, 2, 0, 2], device='cuda:0')\n",
            "tensor([2, 2, 1, 2], device='cuda:0')\n",
            "tensor([0, 0, 2, 2], device='cuda:0')\n",
            "tensor([2, 2, 1, 0], device='cuda:0')\n",
            "tensor([2, 2, 1, 0], device='cuda:0')\n",
            "tensor([1, 2, 0, 0], device='cuda:0')\n",
            "tensor([2, 2, 0, 1], device='cuda:0')\n",
            "tensor([0, 1, 2, 0], device='cuda:0')\n",
            "tensor([2, 1, 2, 1], device='cuda:0')\n",
            "tensor([2, 2, 2, 2], device='cuda:0')\n",
            "tensor([1, 0, 1, 2], device='cuda:0')\n",
            "tensor([2, 2, 0, 2], device='cuda:0')\n",
            "tensor([2, 1, 1, 1], device='cuda:0')\n",
            "tensor([0, 1, 2, 1], device='cuda:0')\n",
            "tensor([2, 0, 0, 2], device='cuda:0')\n",
            "tensor([0, 2, 0, 0], device='cuda:0')\n",
            "tensor([0, 0, 2, 0], device='cuda:0')\n",
            "tensor([1, 2, 2, 1], device='cuda:0')\n",
            "tensor([2, 0, 1], device='cuda:0')\n",
            "h5.mlp Test Error Rate: 0.6400\n"
          ]
        }
      ],
      "source": [
        "if PROBING_LAYER == \"h5.mlp\" and PROMPT == \"This conveys a similar message as this:\":\n",
        "  network.eval()  # Set the network to evaluation mode\n",
        "  total_errors = 0\n",
        "  total_samples = 0\n",
        "  network.load_state_dict(torch.load(best_model_path))\n",
        "\n",
        "  with torch.no_grad():\n",
        "      for hidden_states, labels in test_loader:\n",
        "          input = hidden_states.to(device)\n",
        "          target = labels.to(device)\n",
        "          # Forward pass\n",
        "          outputs = network(input)\n",
        "\n",
        "          # Get predictions from the maximum value\n",
        "          _, predicted = torch.max(outputs.data, 1)\n",
        "          print(predicted)\n",
        "\n",
        "          total_errors += (predicted != target).sum().item()\n",
        "          total_samples += target.size(0)\n",
        "\n",
        "  error_rate = total_errors / total_samples\n",
        "\n",
        "  print(f'h5.mlp Test Error Rate: {error_rate:.4f}')"
      ]
    },
    {
      "cell_type": "markdown",
      "metadata": {
        "id": "2uPkrhywDvc4"
      },
      "source": [
        "### Layer h.09.mlp"
      ]
    },
    {
      "cell_type": "code",
      "execution_count": null,
      "metadata": {
        "colab": {
          "base_uri": "https://localhost:8080/"
        },
        "id": "8suN0r8ZDvc-",
        "outputId": "23f8bae0-4a38-4ca4-d4f8-566a84fdf014"
      },
      "outputs": [
        {
          "name": "stdout",
          "output_type": "stream",
          "text": [
            "h9.mlp Epoch [1/50], Train Loss: 1.0998, Validation Loss: 1.0973\n",
            "h9.mlp Epoch [2/50], Train Loss: 1.0913, Validation Loss: 1.0958\n",
            "h9.mlp Epoch [3/50], Train Loss: 1.0901, Validation Loss: 1.0936\n",
            "h9.mlp Epoch [4/50], Train Loss: 1.0740, Validation Loss: 1.0916\n",
            "h9.mlp Epoch [5/50], Train Loss: 1.0771, Validation Loss: 1.0918\n",
            "h9.mlp Epoch [6/50], Train Loss: 1.0784, Validation Loss: 1.0930\n",
            "h9.mlp Epoch [7/50], Train Loss: 1.0762, Validation Loss: 1.0937\n",
            "h9.mlp Epoch [8/50], Train Loss: 1.0661, Validation Loss: 1.0938\n",
            "h9.mlp Epoch [9/50], Train Loss: 1.0640, Validation Loss: 1.0943\n",
            "h9.mlp Epoch [10/50], Train Loss: 1.0606, Validation Loss: 1.0939\n",
            "h9.mlp Epoch [11/50], Train Loss: 1.0535, Validation Loss: 1.0926\n",
            "h9.mlp Epoch [12/50], Train Loss: 1.0545, Validation Loss: 1.0910\n",
            "h9.mlp Epoch [13/50], Train Loss: 1.0498, Validation Loss: 1.0888\n",
            "h9.mlp Epoch [14/50], Train Loss: 1.0499, Validation Loss: 1.0858\n",
            "h9.mlp Epoch [15/50], Train Loss: 1.0463, Validation Loss: 1.0839\n",
            "h9.mlp Epoch [16/50], Train Loss: 1.0391, Validation Loss: 1.0821\n",
            "h9.mlp Epoch [17/50], Train Loss: 1.0333, Validation Loss: 1.0804\n",
            "h9.mlp Epoch [18/50], Train Loss: 1.0306, Validation Loss: 1.0789\n",
            "h9.mlp Epoch [19/50], Train Loss: 1.0277, Validation Loss: 1.0783\n",
            "h9.mlp Epoch [20/50], Train Loss: 1.0185, Validation Loss: 1.0783\n",
            "h9.mlp Epoch [21/50], Train Loss: 1.0140, Validation Loss: 1.0826\n",
            "h9.mlp Epoch [22/50], Train Loss: 1.0174, Validation Loss: 1.0870\n",
            "h9.mlp Epoch [23/50], Train Loss: 1.0149, Validation Loss: 1.0869\n",
            "h9.mlp Epoch [24/50], Train Loss: 1.0130, Validation Loss: 1.0838\n",
            "h9.mlp Epoch [25/50], Train Loss: 1.0062, Validation Loss: 1.0802\n",
            "h9.mlp Epoch [26/50], Train Loss: 1.0055, Validation Loss: 1.0763\n",
            "h9.mlp Epoch [27/50], Train Loss: 1.0037, Validation Loss: 1.0742\n",
            "h9.mlp Epoch [28/50], Train Loss: 0.9998, Validation Loss: 1.0728\n",
            "h9.mlp Epoch [29/50], Train Loss: 0.9973, Validation Loss: 1.0723\n",
            "h9.mlp Epoch [30/50], Train Loss: 0.9961, Validation Loss: 1.0743\n",
            "h9.mlp Epoch [31/50], Train Loss: 0.9957, Validation Loss: 1.0771\n",
            "h9.mlp Epoch [32/50], Train Loss: 0.9930, Validation Loss: 1.0805\n",
            "h9.mlp Epoch [33/50], Train Loss: 0.9904, Validation Loss: 1.0841\n",
            "h9.mlp Epoch [34/50], Train Loss: 0.9897, Validation Loss: 1.0872\n",
            "h9.mlp Epoch [35/50], Train Loss: 0.9879, Validation Loss: 1.0884\n",
            "h9.mlp Epoch [36/50], Train Loss: 0.9905, Validation Loss: 1.0891\n",
            "h9.mlp Epoch [37/50], Train Loss: 0.9851, Validation Loss: 1.0891\n",
            "h9.mlp Epoch [38/50], Train Loss: 0.9909, Validation Loss: 1.0889\n",
            "h9.mlp Epoch [39/50], Train Loss: 0.9884, Validation Loss: 1.0883\n",
            "h9.mlp Epoch [40/50], Train Loss: 0.9877, Validation Loss: 1.0866\n",
            "h9.mlp Epoch [41/50], Train Loss: 0.9817, Validation Loss: 1.0850\n",
            "h9.mlp Epoch [42/50], Train Loss: 0.9846, Validation Loss: 1.0841\n",
            "h9.mlp Epoch [43/50], Train Loss: 0.9875, Validation Loss: 1.0832\n",
            "h9.mlp Epoch [44/50], Train Loss: 0.9825, Validation Loss: 1.0826\n",
            "h9.mlp Epoch [45/50], Train Loss: 0.9816, Validation Loss: 1.0820\n",
            "h9.mlp Epoch [46/50], Train Loss: 0.9855, Validation Loss: 1.0824\n",
            "h9.mlp Epoch [47/50], Train Loss: 0.9837, Validation Loss: 1.0830\n",
            "h9.mlp Epoch [48/50], Train Loss: 0.9815, Validation Loss: 1.0835\n",
            "h9.mlp Epoch [49/50], Train Loss: 0.9784, Validation Loss: 1.0834\n",
            "h9.mlp Epoch [50/50], Train Loss: 0.9787, Validation Loss: 1.0833\n",
            "h9.mlp, best validation loss 1.0723473241454677\n"
          ]
        }
      ],
      "source": [
        "if PROBING_LAYER == \"h9.mlp\" and PROMPT == \"This conveys a similar message as this:\":\n",
        " # Initialize the network, criterion, and optimizer as before\n",
        "\n",
        "  train_losses, validation_losses = [], []\n",
        "  best_val_loss = float('inf')\n",
        "  best_model_path = 'best_model.pth'\n",
        "  T = max_len\n",
        "  network = CombinedNetwork(dm, num_classes)\n",
        "  network.to(device)\n",
        "  criterion = nn.CrossEntropyLoss()\n",
        "  optimizer = Adam(network.parameters(), lr=0.00001)\n",
        "  for epoch in range(num_epochs):\n",
        "      network.train()\n",
        "      total_loss = 0\n",
        "      total_val_loss = 0\n",
        "      for hidden_states, labels in train_loader:\n",
        "          input = hidden_states.to(device)\n",
        "          target = labels.to(device)\n",
        "          outputs = network(input)\n",
        "          loss = criterion(outputs, target)\n",
        "          loss.backward()\n",
        "          optimizer.step()\n",
        "          total_loss += loss.item()\n",
        "\n",
        "      avg_train_loss = total_loss / len(train_loader)\n",
        "      train_losses.append(avg_train_loss)\n",
        "\n",
        "      network.eval()\n",
        "      total_loss = 0\n",
        "      with torch.no_grad():\n",
        "          for hidden_states, labels in validation_loader:\n",
        "              input = hidden_states.to(device)\n",
        "              target = labels.to(device)\n",
        "              outputs = network(input)\n",
        "              loss = criterion(outputs, target)\n",
        "              total_val_loss += loss.item()\n",
        "\n",
        "      avg_val_loss = total_val_loss / len(validation_loader)\n",
        "      if avg_val_loss < best_val_loss:\n",
        "        best_val_loss = avg_val_loss\n",
        "        torch.save(network.state_dict(), best_model_path)\n",
        "\n",
        "      validation_losses.append(avg_val_loss)\n",
        "\n",
        "      print(f'h9.mlp Epoch [{epoch+1}/{num_epochs}], Train Loss: {avg_train_loss:.4f}, Validation Loss: {avg_val_loss:.4f}')\n",
        "\n",
        "print(f'h9.mlp, best validation loss {best_val_loss}')"
      ]
    },
    {
      "cell_type": "code",
      "execution_count": null,
      "metadata": {
        "colab": {
          "base_uri": "https://localhost:8080/",
          "height": 472
        },
        "id": "CnTdXCtKDvc-",
        "outputId": "210b95ba-f536-41a4-9609-af2ef41bca2f"
      },
      "outputs": [
        {
          "data": {
            "image/png": "[encoded data removed]",
            "text/plain": [
              "<Figure size 640x480 with 1 Axes>"
            ]
          },
          "metadata": {},
          "output_type": "display_data"
        }
      ],
      "source": [
        "if PROBING_LAYER == \"h9.mlp\" and PROMPT == \"This conveys a similar message as this:\":\n",
        "  import matplotlib.pyplot as plt\n",
        "  plt.plot(train_losses, label='Training Loss')\n",
        "  plt.plot(validation_losses, label='Validation Loss')\n",
        "  plt.title('Loss Curves')\n",
        "  plt.xlabel('Epochs')\n",
        "  plt.ylabel('Loss')\n",
        "  plt.legend()\n",
        "  plt.show()"
      ]
    },
    {
      "cell_type": "code",
      "execution_count": null,
      "metadata": {
        "colab": {
          "base_uri": "https://localhost:8080/"
        },
        "id": "OG2YvgtyDvc-",
        "outputId": "8d5de55d-7a7b-45bd-95c5-20876cea256b"
      },
      "outputs": [
        {
          "name": "stdout",
          "output_type": "stream",
          "text": [
            "tensor([2, 0, 2, 2], device='cuda:0')\n",
            "tensor([2, 0, 2, 0], device='cuda:0')\n",
            "tensor([0, 0, 0, 0], device='cuda:0')\n",
            "tensor([0, 2, 0, 0], device='cuda:0')\n",
            "tensor([0, 0, 0, 0], device='cuda:0')\n",
            "tensor([0, 2, 2, 0], device='cuda:0')\n",
            "tensor([0, 0, 2, 1], device='cuda:0')\n",
            "tensor([0, 2, 0, 1], device='cuda:0')\n",
            "tensor([0, 2, 0, 0], device='cuda:0')\n",
            "tensor([0, 0, 0, 0], device='cuda:0')\n",
            "tensor([2, 0, 2, 2], device='cuda:0')\n",
            "tensor([1, 0, 0, 0], device='cuda:0')\n",
            "tensor([0, 1, 1, 0], device='cuda:0')\n",
            "tensor([0, 0, 0, 0], device='cuda:0')\n",
            "tensor([0, 0, 0, 1], device='cuda:0')\n",
            "tensor([0, 1, 0, 2], device='cuda:0')\n",
            "tensor([0, 0, 0, 0], device='cuda:0')\n",
            "tensor([1, 0, 0, 0], device='cuda:0')\n",
            "tensor([0, 0, 0], device='cuda:0')\n",
            "h9.mlp Test Error Rate: 0.6533\n"
          ]
        }
      ],
      "source": [
        "if PROBING_LAYER == \"h9.mlp\" and PROMPT == \"This conveys a similar message as this:\":\n",
        "  network.eval()  # Set the network to evaluation mode\n",
        "  total_errors = 0\n",
        "  total_samples = 0\n",
        "  network.load_state_dict(torch.load(best_model_path))\n",
        "\n",
        "  with torch.no_grad():\n",
        "      for hidden_states, labels in test_loader:\n",
        "          input = hidden_states.to(device)\n",
        "          target = labels.to(device)\n",
        "          # Forward pass\n",
        "          outputs = network(input)\n",
        "\n",
        "          # Get predictions from the maximum value\n",
        "          _, predicted = torch.max(outputs.data, 1)\n",
        "          print(predicted)\n",
        "\n",
        "          total_errors += (predicted != target).sum().item()\n",
        "          total_samples += target.size(0)\n",
        "\n",
        "  error_rate = total_errors / total_samples\n",
        "\n",
        "  print(f'h9.mlp Test Error Rate: {error_rate:.4f}')"
      ]
    }
  ],
  "metadata": {
    "accelerator": "GPU",
    "colab": {
      "collapsed_sections": [
        "dppR5tuLdacG",
        "NAXeGNYmp544",
        "xj3fbxHWkl12",
        "f1R-Yv5OrP3A",
        "t_Yf15_ppVqw",
        "vsrJu1BOuUx9",
        "xVElwOUiD6aY",
        "AxuWWkIrDpJI",
        "2uPkrhywDvc4"
      ],
      "gpuType": "T4",
      "provenance": [],
      "toc_visible": true
    },
    "kernelspec": {
      "display_name": "Python 3",
      "name": "python3"
    },
    "language_info": {
      "name": "python"
    }
  },
  "nbformat": 4,
  "nbformat_minor": 0
}
